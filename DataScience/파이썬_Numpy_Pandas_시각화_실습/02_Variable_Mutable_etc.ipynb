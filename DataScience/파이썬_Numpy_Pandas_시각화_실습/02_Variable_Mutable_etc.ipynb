{
 "cells": [
  {
   "cell_type": "markdown",
   "metadata": {},
   "source": [
    "## 파이썬 변수, Mutable/Immutable, Sequence, 사용자 입출력 \n"
   ]
  },
  {
   "cell_type": "markdown",
   "metadata": {},
   "source": [
    "### 파이썬 변수\n",
    "- [점프 투 파이썬: 자료형의 값을 저장하는 공간, 변수](https://wikidocs.net/18)\n",
    "- https://realpython.com/python-variables/\n",
    "- https://python-textbok.readthedocs.io/en/1.0/Variables_and_Scope.html\n",
    "\n",
    "\n",
    "## `Everything is an object in Python.  파이썬의 모든 것이 다 객체`\n",
    "- 파이썬의 모든 객체는 `id` 와 `type` 을 갖고 있다. \n",
    "- 따라서 파이썬의 모든 것(객체)은 변수에 대응될 수 있으며, 역시 함수에게 argument로 전달될 수 있다.\n",
    "- 그렇다고 파이썬의 모든 객체가 다 `attribute`와 `method`를 갖고 있는 것은 아니고,\n",
    "- 파이썬의 모든 클래스가 sub-class로 확장할 수 있는 것은 아님.\n"
   ]
  },
  {
   "cell_type": "code",
   "execution_count": 32,
   "metadata": {},
   "outputs": [
    {
     "data": {
      "text/plain": [
       "3"
      ]
     },
     "execution_count": 32,
     "metadata": {},
     "output_type": "execute_result"
    }
   ],
   "source": [
    "(1).__add__(2)     # 정수형 객체는 __add__ 함수를 갖고 있다 "
   ]
  },
  {
   "cell_type": "code",
   "execution_count": 33,
   "metadata": {},
   "outputs": [
    {
     "data": {
      "text/plain": [
       "'_abc_abc_abc_abc'"
      ]
     },
     "execution_count": 33,
     "metadata": {},
     "output_type": "execute_result"
    }
   ],
   "source": [
    "('_abc').__mul__(4)    # 스트링 형 객체는 __mul__ 함수를 갖고 있다 "
   ]
  },
  {
   "cell_type": "markdown",
   "metadata": {},
   "source": [
    "`보았죠!!!`"
   ]
  },
  {
   "cell_type": "markdown",
   "metadata": {},
   "source": [
    "------------------------------\n",
    "### 어떤 객체의 생애 (Life Cycle of an object) : \n",
    "1. 객체의 탄생 : 어떤 객체 `me`가 만들어지고 메모리에 자리를 잡는다.  최소한 1개 이상의 변수가 이 객체를 reference 함 (`x = me`) \n",
    "2. 프로그램이 진행되면서 다수의 변수들이 이 객체 `me`를 reference 할 수 있다.  (`y = x`)\n",
    "3. 한편, 전에는 `me`를 가르키던 변수가 다른 객체를 가르키던가 ( `y = 343` ) 또는 `me`를 가르키던 변수가 없어질 수도 있다 ( `del y` )\n",
    "4. 즉, 이렇게 어떤 객체가 탄생되면 그 객체를 가르키는 변수들이 몇 개나 생겼다가 또는 없어질 수 있다.\n",
    "5. 일단 만들어진 객체는 자신을 가르키는 변수가 최소한 1개 이상 있으면 계속 살아있다.\n",
    "6. 객체의 소멸 : 만약 객체 자신을 가르키는 변수가 하나도 없게되면 그 객체는 생애를 다하고 garbage collect 되어, 자신이 차지하던 메모리를 내어 주고 사라진다.  이를 객체의 life cycle 이라 함."
   ]
  },
  {
   "cell_type": "code",
   "execution_count": 34,
   "metadata": {},
   "outputs": [
    {
     "data": {
      "text/plain": [
       "('나는 객체', '나는 객체', '나는 객체')"
      ]
     },
     "execution_count": 34,
     "metadata": {},
     "output_type": "execute_result"
    }
   ],
   "source": [
    "x = '나는 객체'\n",
    "y = x\n",
    "z = y\n",
    "x, y, z"
   ]
  },
  {
   "cell_type": "code",
   "execution_count": 35,
   "metadata": {},
   "outputs": [
    {
     "data": {
      "text/plain": [
       "(2042461292520, 2042461292520, 2042461292520)"
      ]
     },
     "execution_count": 35,
     "metadata": {},
     "output_type": "execute_result"
    }
   ],
   "source": [
    "id(x), id(y), id(z)"
   ]
  },
  {
   "cell_type": "code",
   "execution_count": 36,
   "metadata": {
    "scrolled": true
   },
   "outputs": [
    {
     "ename": "NameError",
     "evalue": "name 'y' is not defined",
     "output_type": "error",
     "traceback": [
      "\u001b[1;31m---------------------------------------------------------------------------\u001b[0m",
      "\u001b[1;31mNameError\u001b[0m                                 Traceback (most recent call last)",
      "\u001b[1;32m<ipython-input-36-e31c5c1eedd4>\u001b[0m in \u001b[0;36m<module>\u001b[1;34m\u001b[0m\n\u001b[0;32m      1\u001b[0m \u001b[1;32mdel\u001b[0m \u001b[0my\u001b[0m\u001b[1;33m\u001b[0m\u001b[1;33m\u001b[0m\u001b[0m\n\u001b[1;32m----> 2\u001b[1;33m \u001b[0my\u001b[0m\u001b[1;33m\u001b[0m\u001b[1;33m\u001b[0m\u001b[0m\n\u001b[0m",
      "\u001b[1;31mNameError\u001b[0m: name 'y' is not defined"
     ]
    }
   ],
   "source": [
    "del y\n",
    "y"
   ]
  },
  {
   "cell_type": "code",
   "execution_count": 37,
   "metadata": {},
   "outputs": [
    {
     "data": {
      "text/plain": [
       "(140709522423728, 140709522423728)"
      ]
     },
     "execution_count": 37,
     "metadata": {},
     "output_type": "execute_result"
    }
   ],
   "source": [
    "x = z = 100\n",
    "id(x), id(z)"
   ]
  },
  {
   "cell_type": "markdown",
   "metadata": {},
   "source": [
    "앞서 생성되었던 '나는 객체' 객체는 사라 짐 \n",
    "\n",
    "----------------------------------------------"
   ]
  },
  {
   "cell_type": "code",
   "execution_count": 38,
   "metadata": {
    "scrolled": true
   },
   "outputs": [
    {
     "name": "stdout",
     "output_type": "stream",
     "text": [
      "3\n",
      "<class 'int'>\n",
      "140709522420624\n"
     ]
    }
   ],
   "source": [
    "x = 3\n",
    "print(x)\n",
    "print(type(x))  # 정수는 int 클래스의 객체 \n",
    "print(id(x))    # 객체 x 의 고유 id를 가져 옴 "
   ]
  },
  {
   "cell_type": "markdown",
   "metadata": {},
   "source": [
    "`x = 3` 진행 과정 :\n",
    "\n",
    "1.  3 값을 갖는 정수 타입의 객체가 메모리에 만들어 짐\n",
    "2. 'x' 라는 이름의 변수가 생성  \n",
    "3. 정수 3 을 가르키는 reference 가 'x' 에 할당 됨. \n",
    "\n",
    "이 과정을 \"변수 x가 3을 가르킨다 (reference 한다)\", 또는  \"변수 `x`가 `3` 에 할당 (assign) 되었다\" 라고 함.  "
   ]
  },
  {
   "cell_type": "code",
   "execution_count": 39,
   "metadata": {},
   "outputs": [
    {
     "name": "stdout",
     "output_type": "stream",
     "text": [
      "4\n",
      "140709522420656\n"
     ]
    }
   ],
   "source": [
    "x = x + 1   \n",
    "# 오른 쪽 변의 x가 가르키는 것의 값 3을 가져와, 1을 더하고, 새로운 객체 4가 만들어지면, \n",
    "# x가 이 객체를 가르키게 된다  \n",
    "# 앞서 만들어졌던 객체 3 은 더 이상 자신을 가르키는 변수가 없으므로 garbage collect (쓰레기 처리) 됨\n",
    "\n",
    "print(x)\n",
    "print(id(x))   # 객체 x 의 고유 id 가 바뀌었음  "
   ]
  },
  {
   "cell_type": "code",
   "execution_count": 40,
   "metadata": {},
   "outputs": [
    {
     "name": "stdout",
     "output_type": "stream",
     "text": [
      "4\n"
     ]
    },
    {
     "data": {
      "text/plain": [
       "140709522420656"
      ]
     },
     "execution_count": 40,
     "metadata": {},
     "output_type": "execute_result"
    }
   ],
   "source": [
    "x2 = x\n",
    "print(x2)\n",
    "id(x2)"
   ]
  },
  {
   "cell_type": "code",
   "execution_count": 41,
   "metadata": {},
   "outputs": [
    {
     "name": "stdout",
     "output_type": "stream",
     "text": [
      "4\n"
     ]
    },
    {
     "data": {
      "text/plain": [
       "140709522420656"
      ]
     },
     "execution_count": 41,
     "metadata": {},
     "output_type": "execute_result"
    }
   ],
   "source": [
    "y = x2\n",
    "print(y)\n",
    "id(y)"
   ]
  },
  {
   "cell_type": "code",
   "execution_count": 42,
   "metadata": {},
   "outputs": [
    {
     "name": "stdout",
     "output_type": "stream",
     "text": [
      "4\n"
     ]
    },
    {
     "data": {
      "text/plain": [
       "(True, True, True, True)"
      ]
     },
     "execution_count": 42,
     "metadata": {},
     "output_type": "execute_result"
    }
   ],
   "source": [
    "y1 = 4    # 4를 다시 만들까?  \n",
    "print(y1)\n",
    "id(y1)    \n",
    "# 앞서 만들어진 4의 id.  즉, 이미 만들어진 4를 재활용 했음.  파이썬은 -5 ~ 256 사이의 정수가 이미 \n",
    "# 생성되어 있으면 이를 재활용 \n",
    "\n",
    "id(y) == id(y1), y1 is y, y1 is x2, y1 is x\n"
   ]
  },
  {
   "cell_type": "markdown",
   "metadata": {},
   "source": [
    "이렇게 어떤 하나의 객체 여러 개의 변수(이름)로 대응되면 이를 alias 되어 있다고 한다."
   ]
  },
  {
   "cell_type": "code",
   "execution_count": 43,
   "metadata": {},
   "outputs": [
    {
     "name": "stdout",
     "output_type": "stream",
     "text": [
      "5\n"
     ]
    },
    {
     "data": {
      "text/plain": [
       "140709522420688"
      ]
     },
     "execution_count": 43,
     "metadata": {},
     "output_type": "execute_result"
    }
   ],
   "source": [
    "y2 = 5\n",
    "print(y2)\n",
    "id(y2)"
   ]
  },
  {
   "cell_type": "code",
   "execution_count": 44,
   "metadata": {},
   "outputs": [
    {
     "name": "stdout",
     "output_type": "stream",
     "text": [
      "6 6 6\n",
      "140709522420720 140709522420720 140709522420720\n"
     ]
    }
   ],
   "source": [
    "a = b = c = 6\n",
    "print(a, b, c)\n",
    "print(id(a), id(b), id(c))"
   ]
  },
  {
   "cell_type": "markdown",
   "metadata": {},
   "source": [
    "변수 a, b, c 가 모두 같은 정수 6을 가르킴"
   ]
  },
  {
   "cell_type": "code",
   "execution_count": 45,
   "metadata": {},
   "outputs": [
    {
     "name": "stdout",
     "output_type": "stream",
     "text": [
      "6 7 6\n",
      "140709522420720 140709522420752 140709522420720\n"
     ]
    }
   ],
   "source": [
    "b = 7              # b가 새로운 정수 7을 가르키도록 \n",
    "print(a, b, c)\n",
    "print(id(a), id(b), id(c))    # 변수 a, c는 계속 이전의 6을 가르키고, b는 새로운 객체 7을 가르킴 "
   ]
  },
  {
   "cell_type": "markdown",
   "metadata": {},
   "source": [
    "## Mutable, Immutable 데이터 타입의 차이\n",
    "- Immutable 데이터 타입 : 한 번 생성된 객체는 변할 수 않음 (정수, 실수, 스트링, 투플, bool, fronzenset)\n",
    "- Mutable 데이터 타입 : 생성된 객체가 변할 수 있음. 즉 객체의 `내부 값/상태`가 객체의 내부 그 자리에서 (in-place) 바뀔 수 있음. (리스트, 딕셔너리, 집합)  \n",
    "- https://medium.com/datadriveninvestor/mutable-and-immutable-python-2093deeac8d9\n",
    "\n",
    "### Immutable"
   ]
  },
  {
   "cell_type": "code",
   "execution_count": 46,
   "metadata": {},
   "outputs": [
    {
     "name": "stdout",
     "output_type": "stream",
     "text": [
      "2042460477872\n",
      "2042460478896\n"
     ]
    }
   ],
   "source": [
    "x = 1000\n",
    "print(id(x))\n",
    "\n",
    "x = 1000\n",
    "print(id(x))   # id가 변했음.  1000 은 256 이상의 정수라 새로운 객체를 만들어야 했음 "
   ]
  },
  {
   "cell_type": "code",
   "execution_count": 47,
   "metadata": {},
   "outputs": [
    {
     "name": "stdout",
     "output_type": "stream",
     "text": [
      "3\n"
     ]
    }
   ],
   "source": [
    "x = 3    # x가 3을 가르킴\n",
    "y = x    # y 역시 x가 가르키는 것을 가르킴. 즉 앞의 3을 가르킴 \n",
    "y = 4    # y가 새로운 객체 4를 가르킴. 정수는 immutable 이라 3이 4로 바뀌지 못함 \n",
    "print(x)   # x는 여전히 3을 가르킴."
   ]
  },
  {
   "cell_type": "markdown",
   "metadata": {},
   "source": [
    "x와 y가 동시에 같은 3을 가르키고 있었다가, `y=4`를 하니 앞의 3이 4로 된 것이 아니고 새로운 4가 만들어지고 y가 이 4를 가르키게 되었음"
   ]
  },
  {
   "cell_type": "markdown",
   "metadata": {},
   "source": [
    "스트링 역시 대표적인 Immutable 타입"
   ]
  },
  {
   "cell_type": "code",
   "execution_count": 48,
   "metadata": {},
   "outputs": [
    {
     "name": "stdout",
     "output_type": "stream",
     "text": [
      "<class 'str'> 2042461312944\n"
     ]
    },
    {
     "data": {
      "text/plain": [
       "13"
      ]
     },
     "execution_count": 48,
     "metadata": {},
     "output_type": "execute_result"
    }
   ],
   "source": [
    "s = \"I am handsome\"\n",
    "print( type(s), id(s) )\n",
    "len(s)"
   ]
  },
  {
   "cell_type": "code",
   "execution_count": 49,
   "metadata": {},
   "outputs": [
    {
     "data": {
      "text/plain": [
       "'m hand'"
      ]
     },
     "execution_count": 49,
     "metadata": {},
     "output_type": "execute_result"
    }
   ],
   "source": [
    "s[3:9]"
   ]
  },
  {
   "cell_type": "code",
   "execution_count": 50,
   "metadata": {},
   "outputs": [
    {
     "ename": "TypeError",
     "evalue": "'str' object does not support item assignment",
     "output_type": "error",
     "traceback": [
      "\u001b[1;31m---------------------------------------------------------------------------\u001b[0m",
      "\u001b[1;31mTypeError\u001b[0m                                 Traceback (most recent call last)",
      "\u001b[1;32m<ipython-input-50-7b999d0caf74>\u001b[0m in \u001b[0;36m<module>\u001b[1;34m\u001b[0m\n\u001b[1;32m----> 1\u001b[1;33m \u001b[0ms\u001b[0m\u001b[1;33m[\u001b[0m\u001b[1;36m5\u001b[0m\u001b[1;33m]\u001b[0m \u001b[1;33m=\u001b[0m \u001b[1;34m'K'\u001b[0m    \u001b[1;31m# 에러. s는 immutable이라, 바뀌지 않음\u001b[0m\u001b[1;33m\u001b[0m\u001b[1;33m\u001b[0m\u001b[0m\n\u001b[0m",
      "\u001b[1;31mTypeError\u001b[0m: 'str' object does not support item assignment"
     ]
    }
   ],
   "source": [
    "s[5] = 'K'    # 에러. s는 immutable이라, 바뀌지 않음 "
   ]
  },
  {
   "cell_type": "code",
   "execution_count": 51,
   "metadata": {},
   "outputs": [
    {
     "name": "stdout",
     "output_type": "stream",
     "text": [
      "<class 'str'> 2042461409472\n"
     ]
    }
   ],
   "source": [
    "s = s[:4] + \" not \" + s[5:]  # 새로운 스트링을 만들어 s가 이를 가르키도록 \n",
    "print( type(s), id(s) )"
   ]
  },
  {
   "cell_type": "markdown",
   "metadata": {},
   "source": [
    "### Mutable 데이터 타입 예 \n",
    "- 리스트가 대표적인 Mutable 데이터    \n",
    "\n",
    "숫자와 비교해 아래 과정을 잘 봅시다 :"
   ]
  },
  {
   "cell_type": "code",
   "execution_count": 52,
   "metadata": {},
   "outputs": [
    {
     "name": "stdout",
     "output_type": "stream",
     "text": [
      "[1, 2, 3, 4] 2042461278152 <class 'list'>\n",
      "[1, 2, 3, 4] 2042461278152\n",
      "[1, 2, 3, 4, 5, 6] 2042461278152\n",
      "[1, 2, 3, 4, 5, 6] 2042461278152\n"
     ]
    }
   ],
   "source": [
    "a = [1, 2, 3, 4]\n",
    "print(a, id(a), type(a))\n",
    "\n",
    "b = a              # b 역시 a가 가르키는 리스트를 가르킴 \n",
    "print(b, id(b))    # 예상한 대로 ...\n",
    "\n",
    "a.extend([5, 6])   # 리스트 a에 [5, 6] 을 붙여 확장시킴.  a는 mutable이기에 a 자체가 변한 것 임  \n",
    "print(a, id(a))    # 예상한 대로 a가 가르키는 리스트가 변한 것을 보여 줌. id 가 그대로 임 \n",
    "print(b, id(b))    # b가 역시 a가 가르키는 곳을 가르키기에 역시 변한 리스트를 보여 줌  "
   ]
  },
  {
   "cell_type": "code",
   "execution_count": 53,
   "metadata": {},
   "outputs": [
    {
     "name": "stdout",
     "output_type": "stream",
     "text": [
      "[1, 2, 33, 4, 5, 6] 2042461278152\n",
      "[1, 2, 33, 4, 5, 6] 2042461278152\n"
     ]
    },
    {
     "data": {
      "text/plain": [
       "True"
      ]
     },
     "execution_count": 53,
     "metadata": {},
     "output_type": "execute_result"
    }
   ],
   "source": [
    "b[2] = 33\n",
    "print(a, id(a))\n",
    "print(b, id(b))\n",
    "a is b"
   ]
  },
  {
   "cell_type": "code",
   "execution_count": 54,
   "metadata": {},
   "outputs": [
    {
     "name": "stdout",
     "output_type": "stream",
     "text": [
      "<class 'function'>\n"
     ]
    }
   ],
   "source": [
    "def func(x) :\n",
    "    print(x)\n",
    "    \n",
    "print(type( func) )"
   ]
  },
  {
   "cell_type": "markdown",
   "metadata": {},
   "source": [
    "### Mutable 또는 Immutable 객체가 함수의 argument로 전달될 때의 차이 :"
   ]
  },
  {
   "cell_type": "code",
   "execution_count": 55,
   "metadata": {},
   "outputs": [
    {
     "name": "stdout",
     "output_type": "stream",
     "text": [
      "140709522420688\n",
      "140709522420688\n",
      "15\n",
      "5\n"
     ]
    }
   ],
   "source": [
    "def multiple(x) :\n",
    "    print(id(x))\n",
    "    x = x * 3\n",
    "    print(x)\n",
    "\n",
    "# immutabke이 전달될 때 \n",
    "a = 5\n",
    "print(id(a))\n",
    "multiple(a)\n",
    "print(a)"
   ]
  },
  {
   "cell_type": "code",
   "execution_count": 56,
   "metadata": {},
   "outputs": [
    {
     "name": "stdout",
     "output_type": "stream",
     "text": [
      "2042461276424\n",
      "2042461276424\n",
      "['a', 'b', 'c', 'a', 'b', 'c']\n",
      "['a', 'b', 'c', 'a', 'b', 'c']\n"
     ]
    }
   ],
   "source": [
    "def repeat_list(x) :\n",
    "    print(id(x))\n",
    "    x.extend(x)\n",
    "    print(x)\n",
    "    \n",
    "a = [\"a\", \"b\", \"c\"]\n",
    "print(id(a))\n",
    "repeat_list(a)\n",
    "print(a)"
   ]
  },
  {
   "cell_type": "code",
   "execution_count": 57,
   "metadata": {},
   "outputs": [
    {
     "name": "stdout",
     "output_type": "stream",
     "text": [
      "2042461277576\n",
      "2042461277576\n",
      "2042461434696\n",
      "[1, 2, 3]\n"
     ]
    }
   ],
   "source": [
    "def assign_value(n, v):\n",
    "    print(id(n))\n",
    "    n = v   # n now points to the object v points to  \n",
    "    print(id(n))\n",
    "\n",
    "list1 = [1, 2, 3]\n",
    "print(id(list1))\n",
    "list2 = [4, 5, 6]\n",
    "\n",
    "assign_value(list1, list2)\n",
    "print(list1)"
   ]
  },
  {
   "cell_type": "markdown",
   "metadata": {},
   "source": [
    "## Sequence 타입 또는 그렇지 않은 것의 차이 : \n",
    "### 파이썬은 어떤 기본적인 요소(item, element) 구성되며, 많이 유용한 몇 가지 [데이터 구조](https://docs.python.org/ko/3/tutorial/datastructures.html)를 기본적으로 제공함 (List, Set, Dictionary, String, Tuple 등).  그 들 중 데이터 구조의 item들에게 순서를 매길 수 있는 것을 sequence 타입이라 함.    \n",
    "\n",
    "- https://docs.python.org/3/library/stdtypes.html#sequence-types-list-tuple-range\n",
    "- http://www.openbookproject.net/books/bpp4awd/ch03.html\n",
    "- 시퀀스 형 자료구조는 인덱싱과 슬라이싱 연산 같은 것을 수행할 수 있음.  \n",
    "- 자세한 사항은 [시퀀스 형 --- list, tuple, range](https://docs.python.org/ko/3/library/stdtypes.html#typesseq)\n",
    "- ***Sequence 데이터 타입 : tuple, list, string, range***\n",
    "- sequence의 indexing은 [ ] operator로 함"
   ]
  },
  {
   "cell_type": "code",
   "execution_count": 58,
   "metadata": {},
   "outputs": [
    {
     "data": {
      "text/plain": [
       "(list, list)"
      ]
     },
     "execution_count": 58,
     "metadata": {},
     "output_type": "execute_result"
    }
   ],
   "source": [
    "ints = [10, 20, 30, 40, 50]\n",
    "words = [\"spam\", \"bungee\", \"swallow\"]\n",
    "whats = [1, 4, 3.14, ['this', 'is', 3], (2, 4), {\"age\":34, \"weight\":72}]\n",
    "type(ints), type(whats)"
   ]
  },
  {
   "cell_type": "code",
   "execution_count": 59,
   "metadata": {},
   "outputs": [
    {
     "data": {
      "text/plain": [
       "6"
      ]
     },
     "execution_count": 59,
     "metadata": {},
     "output_type": "execute_result"
    }
   ],
   "source": [
    "len(whats)"
   ]
  },
  {
   "cell_type": "code",
   "execution_count": 60,
   "metadata": {},
   "outputs": [
    {
     "data": {
      "text/plain": [
       "[3.14, ['this', 'is', 3]]"
      ]
     },
     "execution_count": 60,
     "metadata": {},
     "output_type": "execute_result"
    }
   ],
   "source": [
    "whats[2:4]"
   ]
  },
  {
   "cell_type": "code",
   "execution_count": 61,
   "metadata": {},
   "outputs": [
    {
     "name": "stdout",
     "output_type": "stream",
     "text": [
      "<class 'dict'>\n"
     ]
    }
   ],
   "source": [
    "print(type(whats[5]))"
   ]
  },
  {
   "cell_type": "markdown",
   "metadata": {},
   "source": [
    "## 파이썬 사용자 입력과 출력\n",
    "- [점프 파이썬](https://wikidocs.net/25)"
   ]
  },
  {
   "cell_type": "code",
   "execution_count": 62,
   "metadata": {},
   "outputs": [
    {
     "name": "stdout",
     "output_type": "stream",
     "text": [
      "숫자를 입력하세요: 43\n"
     ]
    }
   ],
   "source": [
    "number = input(\"숫자를 입력하세요: \")"
   ]
  },
  {
   "cell_type": "code",
   "execution_count": 63,
   "metadata": {},
   "outputs": [
    {
     "data": {
      "text/plain": [
       "'43'"
      ]
     },
     "execution_count": 63,
     "metadata": {},
     "output_type": "execute_result"
    }
   ],
   "source": [
    "number"
   ]
  },
  {
   "cell_type": "code",
   "execution_count": 64,
   "metadata": {},
   "outputs": [
    {
     "name": "stdout",
     "output_type": "stream",
     "text": [
      "m, n, a, b, c 다섯 숫자를 칸을 띄워 한 줄에 연속해 입력하세요: 2 3 44 55 -23\n"
     ]
    }
   ],
   "source": [
    "coef = input(\"m, n, a, b, c 다섯 숫자를 칸을 띄워 한 줄에 연속해 입력하세요: \").split()"
   ]
  },
  {
   "cell_type": "code",
   "execution_count": 65,
   "metadata": {},
   "outputs": [
    {
     "data": {
      "text/plain": [
       "['2', '3', '44', '55', '-23']"
      ]
     },
     "execution_count": 65,
     "metadata": {},
     "output_type": "execute_result"
    }
   ],
   "source": [
    "coef"
   ]
  },
  {
   "cell_type": "code",
   "execution_count": 66,
   "metadata": {},
   "outputs": [
    {
     "name": "stdout",
     "output_type": "stream",
     "text": [
      "세번 째 입력은 44 이며 둘 째 점은 (32, 22)\n"
     ]
    }
   ],
   "source": [
    "print(\"세번 째 입력은 %s 이며 둘 째 점은 %s\"%(coef[2], \"(32, 22)\"))"
   ]
  },
  {
   "cell_type": "code",
   "execution_count": null,
   "metadata": {},
   "outputs": [],
   "source": []
  }
 ],
 "metadata": {
  "kernelspec": {
   "display_name": "Python 3",
   "language": "python",
   "name": "python3"
  },
  "language_info": {
   "codemirror_mode": {
    "name": "ipython",
    "version": 3
   },
   "file_extension": ".py",
   "mimetype": "text/x-python",
   "name": "python",
   "nbconvert_exporter": "python",
   "pygments_lexer": "ipython3",
   "version": "3.7.0"
  }
 },
 "nbformat": 4,
 "nbformat_minor": 1
}
