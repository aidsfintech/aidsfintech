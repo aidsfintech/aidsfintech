{
 "cells": [
  {
   "cell_type": "markdown",
   "metadata": {},
   "source": [
    "## 함수, 변수의 스코프(효력 범위/공간), 이름공간(Name Space)   \n",
    "\n",
    "리멤버 : 파이썬에서 어떤 변수를 만드려면(정의함은) `'변수명 = 값'` 와 같이 `=` 의 오른 쪽 값에 왼쪽의 변수 이름(name, identifier)를 할당하는 형태로 한다 :      \n",
    ">`x = 3`     \n",
    "`y = 2*x - 4`    \n",
    "`x, y, z = 32, 2, 3*x`   \n",
    "`w = z`\n",
    "\n",
    "#### 변수 스코프 맛보기 :"
   ]
  },
  {
   "cell_type": "code",
   "execution_count": 1,
   "metadata": {
    "scrolled": true
   },
   "outputs": [
    {
     "name": "stdout",
     "output_type": "stream",
     "text": [
      "0\n"
     ]
    }
   ],
   "source": [
    "a = 0                  # a는 전역 변수 \n",
    "def my_func():\n",
    "    print(a)           \n",
    "    \n",
    "my_func()"
   ]
  },
  {
   "cell_type": "code",
   "execution_count": 2,
   "metadata": {},
   "outputs": [
    {
     "name": "stdout",
     "output_type": "stream",
     "text": [
      "12\n",
      "0\n"
     ]
    }
   ],
   "source": [
    "a = 0                  # a는 전역 변수 \n",
    "def my_func():\n",
    "    a = 12             # 여기서의 a는 my_func의 지역 변수 \n",
    "    print(a)           \n",
    "    \n",
    "my_func()\n",
    "print(a)"
   ]
  },
  {
   "cell_type": "code",
   "execution_count": 3,
   "metadata": {},
   "outputs": [
    {
     "ename": "UnboundLocalError",
     "evalue": "local variable 'a' referenced before assignment",
     "output_type": "error",
     "traceback": [
      "\u001b[1;31m---------------------------------------------------------------------------\u001b[0m",
      "\u001b[1;31mUnboundLocalError\u001b[0m                         Traceback (most recent call last)",
      "\u001b[1;32m<ipython-input-3-0ac08a0d4d6b>\u001b[0m in \u001b[0;36m<module>\u001b[1;34m()\u001b[0m\n\u001b[0;32m      4\u001b[0m     \u001b[0ma\u001b[0m \u001b[1;33m=\u001b[0m \u001b[0ma\u001b[0m \u001b[1;33m+\u001b[0m \u001b[1;36m1\u001b[0m        \u001b[1;31m#  a를 지역 변수로 정의. 여기서 a를 지역변수로 정의한 것이 윗 줄에 영향을 주나?\u001b[0m\u001b[1;33m\u001b[0m\u001b[0m\n\u001b[0;32m      5\u001b[0m \u001b[1;33m\u001b[0m\u001b[0m\n\u001b[1;32m----> 6\u001b[1;33m \u001b[0mmy_func\u001b[0m\u001b[1;33m(\u001b[0m\u001b[1;33m)\u001b[0m\u001b[1;33m\u001b[0m\u001b[0m\n\u001b[0m",
      "\u001b[1;32m<ipython-input-3-0ac08a0d4d6b>\u001b[0m in \u001b[0;36mmy_func\u001b[1;34m()\u001b[0m\n\u001b[0;32m      1\u001b[0m \u001b[0ma\u001b[0m \u001b[1;33m=\u001b[0m \u001b[1;36m0\u001b[0m\u001b[1;33m\u001b[0m\u001b[0m\n\u001b[0;32m      2\u001b[0m \u001b[1;32mdef\u001b[0m \u001b[0mmy_func\u001b[0m\u001b[1;33m(\u001b[0m\u001b[1;33m)\u001b[0m\u001b[1;33m:\u001b[0m\u001b[1;33m\u001b[0m\u001b[0m\n\u001b[1;32m----> 3\u001b[1;33m     \u001b[0mprint\u001b[0m\u001b[1;33m(\u001b[0m\u001b[0ma\u001b[0m\u001b[1;33m)\u001b[0m         \u001b[1;31m# 에러.  왜 이런 일이?\u001b[0m\u001b[1;33m\u001b[0m\u001b[0m\n\u001b[0m\u001b[0;32m      4\u001b[0m     \u001b[0ma\u001b[0m \u001b[1;33m=\u001b[0m \u001b[0ma\u001b[0m \u001b[1;33m+\u001b[0m \u001b[1;36m1\u001b[0m        \u001b[1;31m#  a를 지역 변수로 정의. 여기서 a를 지역변수로 정의한 것이 윗 줄에 영향을 주나?\u001b[0m\u001b[1;33m\u001b[0m\u001b[0m\n\u001b[0;32m      5\u001b[0m \u001b[1;33m\u001b[0m\u001b[0m\n",
      "\u001b[1;31mUnboundLocalError\u001b[0m: local variable 'a' referenced before assignment"
     ]
    }
   ],
   "source": [
    "a = 0\n",
    "def my_func():\n",
    "    print(a)         # 에러.  왜 이런 일이? \n",
    "    a = a + 1        #  a를 지역 변수로 정의. 이 위치에서 a를 지역변수로 정의한 것이 윗 줄에 영향을 주나?    \n",
    "    \n",
    "my_func()"
   ]
  },
  {
   "cell_type": "markdown",
   "metadata": {},
   "source": [
    "***(기억할 것 : 함수내에서 지역변수는 함수 내 어디에서 정의가 되었던지 함수내 모든 곳에서 효력 (지역변수의 이름 공간은 그 함수 전체 공간). 따라서, 함수내에서 같은 이름의 지역 변수와 전역 변수를 함께 사용할 생각하면 안됨)***"
   ]
  },
  {
   "cell_type": "code",
   "execution_count": 4,
   "metadata": {},
   "outputs": [
    {
     "name": "stdout",
     "output_type": "stream",
     "text": [
      "0\n",
      "1\n"
     ]
    }
   ],
   "source": [
    "a = 0\n",
    "def my_func():\n",
    "    print(a)          # 왜 이것은 괜찮지?  \n",
    "    b = a + 1         # 전역 변수 a를 사용(참조)하기만 했고, 같은 이름의 지역변수 a를 만들지 않았기에     \n",
    "    print(b)\n",
    "    \n",
    "my_func()"
   ]
  },
  {
   "cell_type": "code",
   "execution_count": 5,
   "metadata": {},
   "outputs": [
    {
     "name": "stdout",
     "output_type": "stream",
     "text": [
      "0\n",
      "3\n"
     ]
    },
    {
     "data": {
      "text/plain": [
       "3"
      ]
     },
     "execution_count": 5,
     "metadata": {},
     "output_type": "execute_result"
    }
   ],
   "source": [
    "a = 0\n",
    "def my_func():\n",
    "    global a    # 'a' 라는 이름의 전역변수 만들 것이라고 \n",
    "    print(a)\n",
    "    a = a + 3   # 여기서 왼쪽의 a는 지역변수가 아니라 전역변수 a \n",
    "    print(a)\n",
    "    \n",
    "my_func()\n",
    "a"
   ]
  },
  {
   "cell_type": "markdown",
   "metadata": {},
   "source": [
    "## 파이썬 함수 복습 \n",
    "- [점프 투 파이썬](https://wikidocs.net/24)\n",
    "- [파이썬 공식 자습서](https://docs.python.org/ko/3.7/tutorial/controlflow.html#defining-functions)\n",
    "- https://python-textbok.readthedocs.io/en/1.0/Functions.html\n",
    "- [파이썬 함수 활용의 다양한 면모 (데코레이터 등)](https://realpython.com/courses/python-decorators-101/)\n"
   ]
  },
  {
   "cell_type": "markdown",
   "metadata": {},
   "source": [
    "#### 입력값이 몇 개가 될지 모를 때는 어떻게 해야 할까?"
   ]
  },
  {
   "cell_type": "code",
   "execution_count": 6,
   "metadata": {},
   "outputs": [
    {
     "name": "stdout",
     "output_type": "stream",
     "text": [
      "type of args :  <class 'tuple'>\n",
      "(1, 3, 5, 7)\n",
      "16\n"
     ]
    }
   ],
   "source": [
    "def add_all(*args):\n",
    "    print(\"type of args : \", type(args))\n",
    "    print(args)\n",
    "    sum = 0\n",
    "    for i in args:\n",
    "        sum += i\n",
    "    return sum\n",
    "\n",
    "print( add_all(1,3,5,7) )        "
   ]
  },
  {
   "cell_type": "code",
   "execution_count": 7,
   "metadata": {},
   "outputs": [
    {
     "name": "stdout",
     "output_type": "stream",
     "text": [
      "4.0\n"
     ]
    }
   ],
   "source": [
    "def sum_mean(op, *args):\n",
    "    sum = 0\n",
    "    for i in args:\n",
    "        sum += i\n",
    "\n",
    "    if op == 'sum' :\n",
    "        return sum\n",
    "    elif op == 'mean' :\n",
    "        return (sum / len(args) )\n",
    "\n",
    "print( sum_mean('mean', 1,3,5,7) )"
   ]
  },
  {
   "cell_type": "markdown",
   "metadata": {},
   "source": [
    "(주의) `def sum_mean(op, *args)` 형태는 안됨 \n",
    "\n",
    "#### 키워드 파라미터 `**kwargs`\n",
    "#### 패턴 : `함수명(일반_패러미터, 초기값_설정_패러미터=32, *args, **kwargs)`"
   ]
  },
  {
   "cell_type": "code",
   "execution_count": 8,
   "metadata": {},
   "outputs": [
    {
     "name": "stdout",
     "output_type": "stream",
     "text": [
      "sum\n",
      "1\n",
      "2\n",
      "4\n",
      "5\n",
      "('a', 'b', 32)\n",
      "{'xx': 3, 'zz': 'what'}\n",
      "\n",
      "sum\n",
      "1\n",
      "2\n",
      "4\n",
      "a\n",
      "('b', 32)\n",
      "{'xx': 3, 'zz': 'what'}\n",
      "\n",
      "sum\n",
      "1\n",
      "2\n",
      "4\n",
      "0\n",
      "()\n",
      "{'xx': 3, 'zz': 'what'}\n"
     ]
    }
   ],
   "source": [
    "def func(op, a, b, c, d=0, *args, **kwargs) :\n",
    "        print(op)\n",
    "        print(a)\n",
    "        print(b)\n",
    "        print(c)\n",
    "        print(d)\n",
    "        print(args)\n",
    "        # print(args[0])\n",
    "        print(kwargs)\n",
    "        \n",
    "func('sum', 1, 2, 4, 5, 'a', 'b', 32, xx=3, zz='what')\n",
    "print()\n",
    "func('sum', 1, 2, 4, 'a', 'b', 32, xx=3, zz='what')\n",
    "print()\n",
    "func('sum', 1, 2, 4, xx=3, zz='what')"
   ]
  },
  {
   "cell_type": "markdown",
   "metadata": {},
   "source": [
    "------------------------------\n",
    "### 파이썬 변수, 함수, 클래스, 객체의 Name Space 및 Scoping 규칙 : \n",
    "- 프로그래밍을 하다 보면 변수, 함수, 클래스, 객체들을 무수히 만들게 된다. 이런 것들은 이름을 갖게 된다 이름들은 객체들을 가르키는(reference 하는) 것임을 기억.   \n",
    "- 가령, 우리나라에 `김철수` 라는 사람이 100명 있다고 하자. 이 백 명의 김철수들은 모두 고유의 객체(사람)들이다. \n",
    "- 파이썬 프로그래밍은 객체들이 일을 하는 것이지 객체 이름이 일을 하는 것이 아님.  변수 이름 또는 함수들의 `이름` 들은 이런 객체를 쉽게 부르기 위함이다. 마치 사람들이 이름이 있듯이. 사람 세상에서도 동명 이인은 가끔씩 문제를 일으킨다.  ('김철수'가 바로 내가 아는 그 김철수 맞나??? ) \n",
    "- 파이썬 프로그램에서 100개의 객체가 \"김철수\" 라는 이름을 쓴다고 생각해 보자.  100개 중 어떤 것은 정수 객체이고, 또 어떤 것은 \"사람\" 타입 객체일 수도 있다.  이름만 갖고 이 이름이 어떤 객체를 가르키는 지 모르게 됨.  혼자 프로그램 짜도 혼동되는데 여러명이 프로그램 짜면 100% 이런 `이름 충돌 (name clashing/collision)` 문제가 생김.  이렇게 되면 프로그램 안됨.    \n",
    "- 그래서 프로그래밍언어에서는 `네임스페이스`라는 개념을 도입하여, 특정한 하나의 이름이 효력을 미치는 범위를 제한. 어떤 함수내에서 정의된 이름은 바로 그 함수 내에서만 효력이 있고, 함수 밖에서 정의한 이름은 모듈 내 전체에서 효력을 지니고.  이렇게 하여 같은 이름이라도 그 이름이 소속된 `네임스페이스`가 다르면 다른 객체를 가르키는 것이 가능하여 충돌을 막도록 한다.  \n",
    "   \n",
    "#### - 다시 상기 : 파이썬에서 변수를 정의함은 변수를 생성함이고 이는 `'='` 을 이용해 오른 쪽의 객체에 왼쪽의 이름을 할당하면서 이루어진다. \n",
    "\n",
    "- *즉, 이름의 `scope`를 지원하기 위해 `네임스페이스`가 필요하다.*   \n",
    "- **** 파이썬은 `lexical scoping` : 어떤 변수의 scope는 그 변수의 프로그램내 위치에 따라 결정됨 ****\n",
    "     \n",
    "    \n",
    "- 파이썬도 `네임스페이스` 구조를 사용하여 함수, 클래스, 모듈에서 사용한 이름이 서로 간섭하지 않게하여 이름 충돌에 따른 혼란을 피하게 한다.   \n",
    "- 파이썬 프로그램이 돌다가 어떤 이름이 나올 때 그 이름이 가르키는 객체가 무엇이지 찾을 때 (즉, 이름의 ***scope***) 보는 공간의 범위가 `네임스페이스`.  어떤 객체의 `네임스페이스`는 하나가 아니라 layer들로 중첩된 구조.  가장 가까운 공간에서 우선 찾아 보고, 없으면 한 단계 확장된 공간에서, 없으면 더 확장된 공간에서 ...\n",
    "- 현실세계에서도 `네임스페이스` 개념은 널리 쓰인다.  주소체계가 그 중 하나다.  우리나라에 \"용수리\" 가 모두 13 곳이 있다 (https://ko.wikipedia.org/wiki/%EC%9A%A9%EC%88%98%EB%A6%AC). \"용수리에 갔다 왔어\" 할 때 어떤 용수리를 말하는 것일까?  그 것은 그 말을 하는 사람이 암묵적으로 아는 \"용수리\"라는 이름의 `네임스페이스`에 달렸다. 그 사람이 부산 사람이면 부산의 용수리일 가능성이 많고...  프로그램에서 이렇게 암묵적으로 이름 활용이 되어서는 안된다.  물론  \"부산광역시 기장군 정관읍 용수리\", \"경기도 광주시 초월읍 용수리\" 같이 주소 전체를 쓰면 혼란이 없겠지만 이래서는 이름이 길어지고 하는 등의 문제가 있다. 따라서 프로그래밍 언어에서는 `\"확실한 규칙\"`을 만들어 특정 이름이 나오는 위치에 따라 그 이름이 효력을 갖는 범위를 명확히 하여 이름 충돌을 피하도록 한다. \n",
    "    \n",
    "     \n",
    "- Just about everything related to names, including scope classification, happens at `assignment time` in Python. As we’ve seen, names in Python spring into existence when\n",
    "they are first assigned values, and they must be assigned before they are used. Because\n",
    "names are not declared ahead of time, Python uses the `location of the assignment` of a\n",
    "name to associate it with (i.e., bind it to) a particular namespace. In other words, the\n",
    "place where you assign a name in your source code determines the namespace it will\n",
    "live in, and hence its scope of visibility.\n",
    "\n",
    "\n",
    "#### 파이선의 네임스페이스는 크게 세 가지로 분류된다.\n",
    "\n",
    "    1. 전역(global) 네임 스페이스 : 모듈별로 존재하며, 모듈 전체에 통용되는 이름을 사용한다 \n",
    "      - (`globals()` 로 확인 )\n",
    "    2. 지역(local) 네임 스페이스 : 함수 및 메소드 별로 존재하며, 함수 내의 지역 변수들이 소속된다 \n",
    "      - (`locals()` 로 확인)\n",
    "    3. 빌트인(built-in) 네임 스페이스 : 기본 내장 함수 및 기본 예외들의 이름을 저장하는 곳\n",
    "\n",
    "\n",
    "\n",
    "### 스코우프 설정 규칙 \n",
    "- Each module is a global scope — that is, a namespace in which variables created (assigned) at the top level of the module file live.\n",
    "- The global scope spans a single file only. 파이썬에서 어떤 변수의 스코우프가 `global`이라 함은 그 변수가 정의된 해당 파일(모듈)에서만 통한다는 것을 명심.  파이썬에는 프로그램 전체에 걸쳐 통하는 진짜 `전역` 이름은 없다.   \n",
    "- By default, any names assigned inside a function definition are put in the local scope. 함수내에서 정의된 (즉, `=`의 왼쪽에 있는 이름) 그 어떤 이름도 기본적으로 그 함수내에서만 통하는 local scope (즉 함수내에서 정의된 모든 변수명과 argument명은 물론이고, `import`된 모듈명, 함수내에서 `def`로 만든 inner 함수명 등도 모두 local scope). \n",
    "- 함수내에서 정의된 이름이 아닌 다른 모든 이름은 global이던가 또는 파이썬이 기본적으로 제공하는 `built-ins` 스코우프  \n",
    "- https://www.oreilly.com/library/view/learning-python/1565924649/ch04s03.html"
   ]
  },
  {
   "cell_type": "markdown",
   "metadata": {},
   "source": [
    "### 이름의 참조 순서 (이름을 만드는 것이 아니라,  즉 `'='` 의 오른쪽에 이름이 있을 경우)  : \n",
    "1. 이름이 위치한 현재 함수의 네임스페이스에서 로컬 변수 이름을 찾는다.  만약 있으면 그 것을 사용\n",
    "2. 없으면, 바로 상위 레이어의 네임스페이스에서 이름을 찾는다.  즉, 만약 이름이 중첩된 함수에 있었다면 그 함수를 감싸고 있는 바로 위 함수의 네임스페이스에서 찾는다. 만약 있으면 그 것을 사용 \n",
    "3. 이런 식으로 이름을 찾을 때까지 하나 하나 상위 레이어의 네임스페이스를 찾음.\n",
    "4. 결국에는 모듈의 global namespace에 까지 가게된다.  만약 여기서도 없으면 built-in 네임스페이스에서 이름을 찾는다.  여기에서도 없으면 `NameError` 발생 \n",
    "\n",
    "###  좋은 프로그래밍 \n",
    "- 전역변수는 가능한 사용 안하기.  만약 꼭 필요하면 한군데 모아 사용하기.  \n",
    "- 함수 안에서 전역변수를 직접 참조 않기.  직접 전역 변수 참조하지 않고, 인자값으로 받아 사용하자.  \n",
    "- 함수 안에서 전역변수 값 직접 변경 않기.  `global` 이 없다고 생각하자.  함수가 전역 변수를 업데이트하게 하고 싶으면 함수의 리턴값으로 받아 하자.  참고로 파이썬의 리턴은 tuple이고 그 안에 온 갖 것을 집어 넣어 리턴할 수 있다. \n",
    "\n",
    "\n",
    "#### (주의) : 함수내에서 전달받은 mutable 객체의  *in-place* 변환은 이름의 local scope 룰에 적용되지 않음"
   ]
  },
  {
   "cell_type": "code",
   "execution_count": 13,
   "metadata": {},
   "outputs": [
    {
     "name": "stdout",
     "output_type": "stream",
     "text": [
      "77815624\n",
      "77816840\n",
      "77816840    [1, 2, 3]\n",
      "88794696    [1, 2, 3, 'd', 'f']\n",
      "Identifiers and its values in local name space :  {'lst1': [1, 2, 3, 'd', 'f']}\n"
     ]
    }
   ],
   "source": [
    "lst1 = ['a', 'b', 'c']\n",
    "lst2 = [1, 2, 3]\n",
    "print(id(lst1))\n",
    "print(id(lst2))\n",
    "         \n",
    "def func() :\n",
    "    lst1 = lst2       # lst1은 이 때 지역 변수.  lst1이 오른쪽의 전역변수 lst2가 참조하는 것과 같은 것을 가르킴   \n",
    "    print(id(lst1), \"  \", lst1)\n",
    "    lst1 = lst1 + ['d', 'f']    # 새로운 리스트가 만들어지고, 이 새로운 리스트를 지역변수 lst1이 가르킴 \n",
    "    print(id(lst1), \"  \", lst1)\n",
    "    # local space의 내용을 보려면 (딕셔너리로 됨) : \n",
    "    print(\"Identifiers and its values in local name space : \", locals())  #\n",
    "    \n",
    "func()"
   ]
  },
  {
   "cell_type": "code",
   "execution_count": 14,
   "metadata": {},
   "outputs": [
    {
     "name": "stdout",
     "output_type": "stream",
     "text": [
      "global variable 'lst1' :  ['a', 'b', 'c']\n"
     ]
    }
   ],
   "source": [
    "print(\"global variable 'lst1' : \", lst1)   # 전역변수 lst1은 그대로 임 "
   ]
  },
  {
   "cell_type": "code",
   "execution_count": 15,
   "metadata": {},
   "outputs": [
    {
     "name": "stdout",
     "output_type": "stream",
     "text": [
      "78414472\n",
      "88557384\n",
      "88557384    [1, 2, 3, 'd', 'f']\n",
      "locals :  {}\n"
     ]
    }
   ],
   "source": [
    "lst1 = ['a', 'b', 'c']\n",
    "lst2 = [1, 2, 3]\n",
    "print(id(lst1))\n",
    "print(id(lst2))\n",
    "         \n",
    "def func() :\n",
    "    lst2.extend(('d', 'f')) # 함수 내에서 lst2를 직접 (in-place) 변환. lst2 변수가 새로 생긴 것 아님 \n",
    "    print(id(lst2), \"  \", lst2)\n",
    "    print(\"locals : \", locals())   # local namespace에 변수가 없음 \n",
    "    \n",
    "func()"
   ]
  },
  {
   "cell_type": "markdown",
   "metadata": {},
   "source": [
    "#### Name Space는 딕셔너리로 만들어져 있음을 알 수 있다."
   ]
  },
  {
   "cell_type": "code",
   "execution_count": 16,
   "metadata": {
    "scrolled": true
   },
   "outputs": [
    {
     "data": {
      "text/plain": [
       "{'__name__': '__main__',\n",
       " '__doc__': 'Automatically created module for IPython interactive environment',\n",
       " '__package__': None,\n",
       " '__loader__': None,\n",
       " '__spec__': None,\n",
       " '__builtin__': <module 'builtins' (built-in)>,\n",
       " '__builtins__': <module 'builtins' (built-in)>,\n",
       " '_ih': ['',\n",
       "  'a = 0                  # a는 전역 변수 \\ndef my_func():\\n    print(a)           \\n    \\nmy_func()',\n",
       "  'a = 0                  # a는 전역 변수 \\ndef my_func():\\n    a = 12             # 여기서의 a는 my_func의 지역 변수 \\n    print(a)           \\n    \\nmy_func()\\nprint(a)',\n",
       "  'a = 0\\ndef my_func():\\n    print(a)         # 에러.  왜 이런 일이? \\n    a = a + 1        #  a를 지역 변수로 정의. 여기서 a를 지역변수로 정의한 것이 윗 줄에 영향을 주나?    \\n    \\nmy_func()',\n",
       "  'a = 0\\ndef my_func():\\n    print(a)          # 왜 이것은 괜찮지?  \\n    b = a + 1         # 전역 변수 a를 사용(참조)하기만 했고, 같은 이름의 지역변수 a를 만들지 않았기에     \\n    print(b)\\n    \\nmy_func()',\n",
       "  \"a = 0\\ndef my_func():\\n    global a    # 'a' 라는 이름의 전역변수 만들 것이라고 \\n    print(a)\\n    a = a + 3   # 여기서 왼쪽의 a는 지역변수가 아니라 전역변수 a \\n    print(a)\\n    \\nmy_func()\\na\",\n",
       "  'def add_all(*args):\\n    print(\"type of args : \", type(args))\\n    print(args)\\n    sum = 0\\n    for i in args:\\n        sum += i\\n    return sum\\n\\nprint( add_all(1,3,5,7) )        ',\n",
       "  \"def sum_mean(op, *args):\\n    sum = 0\\n    for i in args:\\n        sum += i\\n\\n    if op == 'sum' :\\n        return sum\\n    elif op == 'mean' :\\n        return (sum / len(args) )\\n\\nprint( sum_mean('mean', 1,3,5,7) )\",\n",
       "  \"def func(op, a, b, c, d=0, *args, **kwargs) :\\n        print(op)\\n        print(a)\\n        print(b)\\n        print(c)\\n        print(d)\\n        print(args)\\n        # print(args[0])\\n        print(kwargs)\\n        \\nfunc('sum', 1, 2, 4, 5, 'a', 'b', 32, xx=3, zz='what')\\nprint()\\nfunc('sum', 1, 2, 4, 'a', 'b', 32, xx=3, zz='what')\\nprint()\\nfunc('sum', 1, 2, 4, xx=3, zz='what')\",\n",
       "  'lst1 = [\\'a\\', \\'b\\', \\'c\\']\\nlst2 = [1, 2, 3]\\nprint(id(lst1))\\nprint(id(lst2))\\n         \\ndef func() :\\n    lst1 = lst2       # lst1은 이 때 지역 변수 \\n    print(id(lst1), \"  \", lst1)\\n    lst1 = lst1 + [\\'d\\', \\'f\\']    # 새로운 리스트가 만들어지고, 이 것을 지역변수 lst1이 가르킴 \\n    print(id(lst1), \"  \", lst1)\\n    # local space의 내용을 보려면 (딕셔너리로 됨) : \\n    print(\"Identifiers and its values in local name space : \", locals())  #\\n    \\nfunc()',\n",
       "  'lst1   # 전역변수 lst1은 그대로 임 ',\n",
       "  'lst1 = [\\'a\\', \\'b\\', \\'c\\']\\nlst2 = [1, 2, 3]\\nprint(id(lst1))\\nprint(id(lst2))\\n         \\ndef func() :\\n    lst2.extend((\\'d\\', \\'f\\')) # 함수 내에서 lst2를 직접 (in-place) 변환. lst2 변수가 새로 생긴 것 아님 \\n    print(id(lst2), \"  \", lst2)\\n    print(\"locals : \", locals())   # local namespace에 변수가 없음 \\n    \\nfunc()',\n",
       "  'lst1 = [\\'a\\', \\'b\\', \\'c\\']\\nlst2 = [1, 2, 3]\\nprint(id(lst1))\\nprint(id(lst2))\\n         \\ndef func() :\\n    lst1 = lst2       # lst1은 이 때 지역 변수.  lst1이 오른쪽의 전역변수 lst2가 참조하는 것과 같은 것을 가르킴   \\n    print(id(lst1), \"  \", lst1)\\n    lst1 = lst1 + [\\'d\\', \\'f\\']    # 새로운 리스트가 만들어지고, 이 새로운 리스트를 지역변수 lst1이 가르킴 \\n    print(id(lst1), \"  \", lst1)\\n    # local space의 내용을 보려면 (딕셔너리로 됨) : \\n    print(\"Identifiers and its values in local name space : \", locals())  #\\n    \\nfunc()\\n\\nprint(\"global variable \\'lst1\\' : \", lst1)',\n",
       "  'lst1 = [\\'a\\', \\'b\\', \\'c\\']\\nlst2 = [1, 2, 3]\\nprint(id(lst1))\\nprint(id(lst2))\\n         \\ndef func() :\\n    lst1 = lst2       # lst1은 이 때 지역 변수.  lst1이 오른쪽의 전역변수 lst2가 참조하는 것과 같은 것을 가르킴   \\n    print(id(lst1), \"  \", lst1)\\n    lst1 = lst1 + [\\'d\\', \\'f\\']    # 새로운 리스트가 만들어지고, 이 새로운 리스트를 지역변수 lst1이 가르킴 \\n    print(id(lst1), \"  \", lst1)\\n    # local space의 내용을 보려면 (딕셔너리로 됨) : \\n    print(\"Identifiers and its values in local name space : \", locals())  #\\n    \\nfunc()',\n",
       "  'print(\"global variable \\'lst1\\' : \", lst1)   # 전역변수 lst1은 그대로 임 ',\n",
       "  'lst1 = [\\'a\\', \\'b\\', \\'c\\']\\nlst2 = [1, 2, 3]\\nprint(id(lst1))\\nprint(id(lst2))\\n         \\ndef func() :\\n    lst2.extend((\\'d\\', \\'f\\')) # 함수 내에서 lst2를 직접 (in-place) 변환. lst2 변수가 새로 생긴 것 아님 \\n    print(id(lst2), \"  \", lst2)\\n    print(\"locals : \", locals())   # local namespace에 변수가 없음 \\n    \\nfunc()',\n",
       "  'locals()   # 이 것은 현재 지역 네임스페이스, 즉 파이썬 인터액티브 모듈의 top-level의 name space'],\n",
       " '_oh': {5: 3, 10: ['a', 'b', 'c']},\n",
       " '_dh': ['D:\\\\HBLEE\\\\Dropbox\\\\dongguk_동국대\\\\Classes\\\\2019 빅데이터\\\\week_4_함수_Scoping_Rule_NameSpace_etc'],\n",
       " 'In': ['',\n",
       "  'a = 0                  # a는 전역 변수 \\ndef my_func():\\n    print(a)           \\n    \\nmy_func()',\n",
       "  'a = 0                  # a는 전역 변수 \\ndef my_func():\\n    a = 12             # 여기서의 a는 my_func의 지역 변수 \\n    print(a)           \\n    \\nmy_func()\\nprint(a)',\n",
       "  'a = 0\\ndef my_func():\\n    print(a)         # 에러.  왜 이런 일이? \\n    a = a + 1        #  a를 지역 변수로 정의. 여기서 a를 지역변수로 정의한 것이 윗 줄에 영향을 주나?    \\n    \\nmy_func()',\n",
       "  'a = 0\\ndef my_func():\\n    print(a)          # 왜 이것은 괜찮지?  \\n    b = a + 1         # 전역 변수 a를 사용(참조)하기만 했고, 같은 이름의 지역변수 a를 만들지 않았기에     \\n    print(b)\\n    \\nmy_func()',\n",
       "  \"a = 0\\ndef my_func():\\n    global a    # 'a' 라는 이름의 전역변수 만들 것이라고 \\n    print(a)\\n    a = a + 3   # 여기서 왼쪽의 a는 지역변수가 아니라 전역변수 a \\n    print(a)\\n    \\nmy_func()\\na\",\n",
       "  'def add_all(*args):\\n    print(\"type of args : \", type(args))\\n    print(args)\\n    sum = 0\\n    for i in args:\\n        sum += i\\n    return sum\\n\\nprint( add_all(1,3,5,7) )        ',\n",
       "  \"def sum_mean(op, *args):\\n    sum = 0\\n    for i in args:\\n        sum += i\\n\\n    if op == 'sum' :\\n        return sum\\n    elif op == 'mean' :\\n        return (sum / len(args) )\\n\\nprint( sum_mean('mean', 1,3,5,7) )\",\n",
       "  \"def func(op, a, b, c, d=0, *args, **kwargs) :\\n        print(op)\\n        print(a)\\n        print(b)\\n        print(c)\\n        print(d)\\n        print(args)\\n        # print(args[0])\\n        print(kwargs)\\n        \\nfunc('sum', 1, 2, 4, 5, 'a', 'b', 32, xx=3, zz='what')\\nprint()\\nfunc('sum', 1, 2, 4, 'a', 'b', 32, xx=3, zz='what')\\nprint()\\nfunc('sum', 1, 2, 4, xx=3, zz='what')\",\n",
       "  'lst1 = [\\'a\\', \\'b\\', \\'c\\']\\nlst2 = [1, 2, 3]\\nprint(id(lst1))\\nprint(id(lst2))\\n         \\ndef func() :\\n    lst1 = lst2       # lst1은 이 때 지역 변수 \\n    print(id(lst1), \"  \", lst1)\\n    lst1 = lst1 + [\\'d\\', \\'f\\']    # 새로운 리스트가 만들어지고, 이 것을 지역변수 lst1이 가르킴 \\n    print(id(lst1), \"  \", lst1)\\n    # local space의 내용을 보려면 (딕셔너리로 됨) : \\n    print(\"Identifiers and its values in local name space : \", locals())  #\\n    \\nfunc()',\n",
       "  'lst1   # 전역변수 lst1은 그대로 임 ',\n",
       "  'lst1 = [\\'a\\', \\'b\\', \\'c\\']\\nlst2 = [1, 2, 3]\\nprint(id(lst1))\\nprint(id(lst2))\\n         \\ndef func() :\\n    lst2.extend((\\'d\\', \\'f\\')) # 함수 내에서 lst2를 직접 (in-place) 변환. lst2 변수가 새로 생긴 것 아님 \\n    print(id(lst2), \"  \", lst2)\\n    print(\"locals : \", locals())   # local namespace에 변수가 없음 \\n    \\nfunc()',\n",
       "  'lst1 = [\\'a\\', \\'b\\', \\'c\\']\\nlst2 = [1, 2, 3]\\nprint(id(lst1))\\nprint(id(lst2))\\n         \\ndef func() :\\n    lst1 = lst2       # lst1은 이 때 지역 변수.  lst1이 오른쪽의 전역변수 lst2가 참조하는 것과 같은 것을 가르킴   \\n    print(id(lst1), \"  \", lst1)\\n    lst1 = lst1 + [\\'d\\', \\'f\\']    # 새로운 리스트가 만들어지고, 이 새로운 리스트를 지역변수 lst1이 가르킴 \\n    print(id(lst1), \"  \", lst1)\\n    # local space의 내용을 보려면 (딕셔너리로 됨) : \\n    print(\"Identifiers and its values in local name space : \", locals())  #\\n    \\nfunc()\\n\\nprint(\"global variable \\'lst1\\' : \", lst1)',\n",
       "  'lst1 = [\\'a\\', \\'b\\', \\'c\\']\\nlst2 = [1, 2, 3]\\nprint(id(lst1))\\nprint(id(lst2))\\n         \\ndef func() :\\n    lst1 = lst2       # lst1은 이 때 지역 변수.  lst1이 오른쪽의 전역변수 lst2가 참조하는 것과 같은 것을 가르킴   \\n    print(id(lst1), \"  \", lst1)\\n    lst1 = lst1 + [\\'d\\', \\'f\\']    # 새로운 리스트가 만들어지고, 이 새로운 리스트를 지역변수 lst1이 가르킴 \\n    print(id(lst1), \"  \", lst1)\\n    # local space의 내용을 보려면 (딕셔너리로 됨) : \\n    print(\"Identifiers and its values in local name space : \", locals())  #\\n    \\nfunc()',\n",
       "  'print(\"global variable \\'lst1\\' : \", lst1)   # 전역변수 lst1은 그대로 임 ',\n",
       "  'lst1 = [\\'a\\', \\'b\\', \\'c\\']\\nlst2 = [1, 2, 3]\\nprint(id(lst1))\\nprint(id(lst2))\\n         \\ndef func() :\\n    lst2.extend((\\'d\\', \\'f\\')) # 함수 내에서 lst2를 직접 (in-place) 변환. lst2 변수가 새로 생긴 것 아님 \\n    print(id(lst2), \"  \", lst2)\\n    print(\"locals : \", locals())   # local namespace에 변수가 없음 \\n    \\nfunc()',\n",
       "  'locals()   # 이 것은 현재 지역 네임스페이스, 즉 파이썬 인터액티브 모듈의 top-level의 name space'],\n",
       " 'Out': {5: 3, 10: ['a', 'b', 'c']},\n",
       " 'get_ipython': <bound method InteractiveShell.get_ipython of <ipykernel.zmqshell.ZMQInteractiveShell object at 0x0000000004A002B0>>,\n",
       " 'exit': <IPython.core.autocall.ZMQExitAutocall at 0x4a00470>,\n",
       " 'quit': <IPython.core.autocall.ZMQExitAutocall at 0x4a00470>,\n",
       " '_': ['a', 'b', 'c'],\n",
       " '__': 3,\n",
       " '___': '',\n",
       " '_i': 'lst1 = [\\'a\\', \\'b\\', \\'c\\']\\nlst2 = [1, 2, 3]\\nprint(id(lst1))\\nprint(id(lst2))\\n         \\ndef func() :\\n    lst2.extend((\\'d\\', \\'f\\')) # 함수 내에서 lst2를 직접 (in-place) 변환. lst2 변수가 새로 생긴 것 아님 \\n    print(id(lst2), \"  \", lst2)\\n    print(\"locals : \", locals())   # local namespace에 변수가 없음 \\n    \\nfunc()',\n",
       " '_ii': 'print(\"global variable \\'lst1\\' : \", lst1)   # 전역변수 lst1은 그대로 임 ',\n",
       " '_iii': 'lst1 = [\\'a\\', \\'b\\', \\'c\\']\\nlst2 = [1, 2, 3]\\nprint(id(lst1))\\nprint(id(lst2))\\n         \\ndef func() :\\n    lst1 = lst2       # lst1은 이 때 지역 변수.  lst1이 오른쪽의 전역변수 lst2가 참조하는 것과 같은 것을 가르킴   \\n    print(id(lst1), \"  \", lst1)\\n    lst1 = lst1 + [\\'d\\', \\'f\\']    # 새로운 리스트가 만들어지고, 이 새로운 리스트를 지역변수 lst1이 가르킴 \\n    print(id(lst1), \"  \", lst1)\\n    # local space의 내용을 보려면 (딕셔너리로 됨) : \\n    print(\"Identifiers and its values in local name space : \", locals())  #\\n    \\nfunc()',\n",
       " '_i1': 'a = 0                  # a는 전역 변수 \\ndef my_func():\\n    print(a)           \\n    \\nmy_func()',\n",
       " 'a': 3,\n",
       " 'my_func': <function __main__.my_func()>,\n",
       " '_i2': 'a = 0                  # a는 전역 변수 \\ndef my_func():\\n    a = 12             # 여기서의 a는 my_func의 지역 변수 \\n    print(a)           \\n    \\nmy_func()\\nprint(a)',\n",
       " '_i3': 'a = 0\\ndef my_func():\\n    print(a)         # 에러.  왜 이런 일이? \\n    a = a + 1        #  a를 지역 변수로 정의. 여기서 a를 지역변수로 정의한 것이 윗 줄에 영향을 주나?    \\n    \\nmy_func()',\n",
       " '_i4': 'a = 0\\ndef my_func():\\n    print(a)          # 왜 이것은 괜찮지?  \\n    b = a + 1         # 전역 변수 a를 사용(참조)하기만 했고, 같은 이름의 지역변수 a를 만들지 않았기에     \\n    print(b)\\n    \\nmy_func()',\n",
       " '_i5': \"a = 0\\ndef my_func():\\n    global a    # 'a' 라는 이름의 전역변수 만들 것이라고 \\n    print(a)\\n    a = a + 3   # 여기서 왼쪽의 a는 지역변수가 아니라 전역변수 a \\n    print(a)\\n    \\nmy_func()\\na\",\n",
       " '_5': 3,\n",
       " '_i6': 'def add_all(*args):\\n    print(\"type of args : \", type(args))\\n    print(args)\\n    sum = 0\\n    for i in args:\\n        sum += i\\n    return sum\\n\\nprint( add_all(1,3,5,7) )        ',\n",
       " 'add_all': <function __main__.add_all(*args)>,\n",
       " '_i7': \"def sum_mean(op, *args):\\n    sum = 0\\n    for i in args:\\n        sum += i\\n\\n    if op == 'sum' :\\n        return sum\\n    elif op == 'mean' :\\n        return (sum / len(args) )\\n\\nprint( sum_mean('mean', 1,3,5,7) )\",\n",
       " 'sum_mean': <function __main__.sum_mean(op, *args)>,\n",
       " '_i8': \"def func(op, a, b, c, d=0, *args, **kwargs) :\\n        print(op)\\n        print(a)\\n        print(b)\\n        print(c)\\n        print(d)\\n        print(args)\\n        # print(args[0])\\n        print(kwargs)\\n        \\nfunc('sum', 1, 2, 4, 5, 'a', 'b', 32, xx=3, zz='what')\\nprint()\\nfunc('sum', 1, 2, 4, 'a', 'b', 32, xx=3, zz='what')\\nprint()\\nfunc('sum', 1, 2, 4, xx=3, zz='what')\",\n",
       " 'func': <function __main__.func()>,\n",
       " '_i9': 'lst1 = [\\'a\\', \\'b\\', \\'c\\']\\nlst2 = [1, 2, 3]\\nprint(id(lst1))\\nprint(id(lst2))\\n         \\ndef func() :\\n    lst1 = lst2       # lst1은 이 때 지역 변수 \\n    print(id(lst1), \"  \", lst1)\\n    lst1 = lst1 + [\\'d\\', \\'f\\']    # 새로운 리스트가 만들어지고, 이 것을 지역변수 lst1이 가르킴 \\n    print(id(lst1), \"  \", lst1)\\n    # local space의 내용을 보려면 (딕셔너리로 됨) : \\n    print(\"Identifiers and its values in local name space : \", locals())  #\\n    \\nfunc()',\n",
       " 'lst1': ['a', 'b', 'c'],\n",
       " 'lst2': [1, 2, 3, 'd', 'f'],\n",
       " '_i10': 'lst1   # 전역변수 lst1은 그대로 임 ',\n",
       " '_10': ['a', 'b', 'c'],\n",
       " '_i11': 'lst1 = [\\'a\\', \\'b\\', \\'c\\']\\nlst2 = [1, 2, 3]\\nprint(id(lst1))\\nprint(id(lst2))\\n         \\ndef func() :\\n    lst2.extend((\\'d\\', \\'f\\')) # 함수 내에서 lst2를 직접 (in-place) 변환. lst2 변수가 새로 생긴 것 아님 \\n    print(id(lst2), \"  \", lst2)\\n    print(\"locals : \", locals())   # local namespace에 변수가 없음 \\n    \\nfunc()',\n",
       " '_i12': 'lst1 = [\\'a\\', \\'b\\', \\'c\\']\\nlst2 = [1, 2, 3]\\nprint(id(lst1))\\nprint(id(lst2))\\n         \\ndef func() :\\n    lst1 = lst2       # lst1은 이 때 지역 변수.  lst1이 오른쪽의 전역변수 lst2가 참조하는 것과 같은 것을 가르킴   \\n    print(id(lst1), \"  \", lst1)\\n    lst1 = lst1 + [\\'d\\', \\'f\\']    # 새로운 리스트가 만들어지고, 이 새로운 리스트를 지역변수 lst1이 가르킴 \\n    print(id(lst1), \"  \", lst1)\\n    # local space의 내용을 보려면 (딕셔너리로 됨) : \\n    print(\"Identifiers and its values in local name space : \", locals())  #\\n    \\nfunc()\\n\\nprint(\"global variable \\'lst1\\' : \", lst1)',\n",
       " '_i13': 'lst1 = [\\'a\\', \\'b\\', \\'c\\']\\nlst2 = [1, 2, 3]\\nprint(id(lst1))\\nprint(id(lst2))\\n         \\ndef func() :\\n    lst1 = lst2       # lst1은 이 때 지역 변수.  lst1이 오른쪽의 전역변수 lst2가 참조하는 것과 같은 것을 가르킴   \\n    print(id(lst1), \"  \", lst1)\\n    lst1 = lst1 + [\\'d\\', \\'f\\']    # 새로운 리스트가 만들어지고, 이 새로운 리스트를 지역변수 lst1이 가르킴 \\n    print(id(lst1), \"  \", lst1)\\n    # local space의 내용을 보려면 (딕셔너리로 됨) : \\n    print(\"Identifiers and its values in local name space : \", locals())  #\\n    \\nfunc()',\n",
       " '_i14': 'print(\"global variable \\'lst1\\' : \", lst1)   # 전역변수 lst1은 그대로 임 ',\n",
       " '_i15': 'lst1 = [\\'a\\', \\'b\\', \\'c\\']\\nlst2 = [1, 2, 3]\\nprint(id(lst1))\\nprint(id(lst2))\\n         \\ndef func() :\\n    lst2.extend((\\'d\\', \\'f\\')) # 함수 내에서 lst2를 직접 (in-place) 변환. lst2 변수가 새로 생긴 것 아님 \\n    print(id(lst2), \"  \", lst2)\\n    print(\"locals : \", locals())   # local namespace에 변수가 없음 \\n    \\nfunc()',\n",
       " '_i16': 'locals()   # 이 것은 현재 지역 네임스페이스, 즉 파이썬 인터액티브 모듈의 top-level의 name space'}"
      ]
     },
     "execution_count": 16,
     "metadata": {},
     "output_type": "execute_result"
    }
   ],
   "source": [
    "locals()   # 이 것은 현재 지역 네임스페이스, 즉 파이썬 인터액티브 모듈의 top-level의 name space"
   ]
  },
  {
   "cell_type": "code",
   "execution_count": 17,
   "metadata": {},
   "outputs": [
    {
     "name": "stdout",
     "output_type": "stream",
     "text": [
      "OK. It is not imported\n"
     ]
    }
   ],
   "source": [
    "if __name__ == \"__main__\" :   \n",
    "    print('OK. It is not imported')"
   ]
  },
  {
   "cell_type": "code",
   "execution_count": 18,
   "metadata": {
    "scrolled": false
   },
   "outputs": [
    {
     "name": "stdout",
     "output_type": "stream",
     "text": [
      "Automatically created module for IPython interactive environment\n"
     ]
    }
   ],
   "source": [
    "print(__doc__)"
   ]
  },
  {
   "cell_type": "code",
   "execution_count": 19,
   "metadata": {},
   "outputs": [
    {
     "data": {
      "text/plain": [
       "'pandas'"
      ]
     },
     "execution_count": 19,
     "metadata": {},
     "output_type": "execute_result"
    }
   ],
   "source": [
    "import pandas\n",
    "pandas.__name__       "
   ]
  },
  {
   "cell_type": "markdown",
   "metadata": {},
   "source": [
    "pandas 모듈을 import할 때 (즉, pandas 모듈이 실행될 떄) 파이썬이 자동적으로 pandas 네임스페이스에  `__name__` 이라는 global 변수 (즉, 모듈 레벨 변수)를 만들고 이 값을 `pandas` 로 함 "
   ]
  },
  {
   "cell_type": "code",
   "execution_count": 20,
   "metadata": {
    "scrolled": false
   },
   "outputs": [
    {
     "name": "stdout",
     "output_type": "stream",
     "text": [
      "\n",
      "pandas - a powerful data analysis and manipulation library for Python\n",
      "=====================================================================\n",
      "\n",
      "**pandas** is a Python package providing fast, flexible, and expressive data\n",
      "structures designed to make working with \"relational\" or \"labeled\" data both\n",
      "easy and intuitive. It aims to be the fundamental high-level building block for\n",
      "doing practical, **real world** data analysis in Python. Additionally, it has\n",
      "the broader goal of becoming **the most powerful and flexible open source data\n",
      "analysis / manipulation tool available in any language**. It is already well on\n",
      "its way toward this goal.\n",
      "\n",
      "Main Features\n",
      "-------------\n",
      "Here are just a few of the things that pandas does well:\n",
      "\n",
      "  - Easy handling of missing data in floating point as well as non-floating\n",
      "    point data.\n",
      "  - Size mutability: columns can be inserted and deleted from DataFrame and\n",
      "    higher dimensional objects\n",
      "  - Automatic and explicit data alignment: objects can be explicitly aligned\n",
      "    to a set of labels, or the user can simply ignore the labels and let\n",
      "    `Series`, `DataFrame`, etc. automatically align the data for you in\n",
      "    computations.\n",
      "  - Powerful, flexible group by functionality to perform split-apply-combine\n",
      "    operations on data sets, for both aggregating and transforming data.\n",
      "  - Make it easy to convert ragged, differently-indexed data in other Python\n",
      "    and NumPy data structures into DataFrame objects.\n",
      "  - Intelligent label-based slicing, fancy indexing, and subsetting of large\n",
      "    data sets.\n",
      "  - Intuitive merging and joining data sets.\n",
      "  - Flexible reshaping and pivoting of data sets.\n",
      "  - Hierarchical labeling of axes (possible to have multiple labels per tick).\n",
      "  - Robust IO tools for loading data from flat files (CSV and delimited),\n",
      "    Excel files, databases, and saving/loading data from the ultrafast HDF5\n",
      "    format.\n",
      "  - Time series-specific functionality: date range generation and frequency\n",
      "    conversion, moving window statistics, moving window linear regressions,\n",
      "    date shifting and lagging, etc.\n",
      "\n"
     ]
    }
   ],
   "source": [
    "print(pandas.__doc__)"
   ]
  },
  {
   "cell_type": "markdown",
   "metadata": {},
   "source": [
    "다음 시간에 `__xx__` 형태의 특별한 identifier와 함수들을 봄 \n",
    "\n",
    "-----------------------------------------------------\n",
    "\n",
    "### [Sebastian Raschka](http://www.sebastianraschka.com)  의 간단한 예\n",
    "####   `A beginner's guide to Python's namespaces, scope resolution, and the LEGB rule`\n",
    "\n",
    "- [Link to the containing GitHub Repository](https://github.com/rasbt/python_reference)\n",
    "- [Link to this IPython Notebook on GitHub](https://github.com/rasbt/python_reference/blob/master/tutorials/scope_resolution_legb_rule.ipynb)\n"
   ]
  },
  {
   "cell_type": "markdown",
   "metadata": {},
   "source": [
    "This is a short tutorial about Python's namespaces and the scope resolution for variable names using the LEGB-rule. The following sections will provide short example code blocks that should illustrate the problem followed by short explanations. You can simply read this tutorial from start to end, but I'd like to encourage you to execute the code snippets - you can either copy & paste them, or for your convenience, simply [download this IPython notebook](https://raw.githubusercontent.com/rasbt/python_reference/master/tutorials/scope_resolution_legb_rule.ipynb)."
   ]
  },
  {
   "cell_type": "markdown",
   "metadata": {},
   "source": [
    "## Sections  "
   ]
  },
  {
   "cell_type": "markdown",
   "metadata": {},
   "source": [
    "\n",
    "\n",
    "- [Introduction to namespaces and scopes](#introduction)  \n",
    "- [1. LG - Local and Global scopes](#section_1)  \n",
    "- [2. LEG - Local, Enclosed, and Global scope](#section_2)  \n",
    "- [3. LEGB - Local, Enclosed, Global, Built-in](#section_3)  \n",
    "- [Self-assessment exercise](#assessment)\n",
    "- [Conclusion](#conclusion)  \n",
    "- [Solutions](#solutions)\n",
    "- [Warning: For-loop variables \"leaking\" into the global namespace](#for_loop)"
   ]
  },
  {
   "cell_type": "markdown",
   "metadata": {},
   "source": [
    "## Objectives\n",
    "- Namespaces and scopes - where does Python look for variable names?\n",
    "- Can we define/reuse variable names for multiple objects at the same time?\n",
    "- In which order does Python search different namespaces for variable names?"
   ]
  },
  {
   "cell_type": "markdown",
   "metadata": {},
   "source": [
    "## Introduction to namespaces and scopes"
   ]
  },
  {
   "cell_type": "markdown",
   "metadata": {},
   "source": [
    "### Namespaces"
   ]
  },
  {
   "cell_type": "markdown",
   "metadata": {},
   "source": [
    "Roughly speaking, namespaces are just containers for `mapping names to objects`. As you might have already heard, everything in Python - literals, lists, dictionaries, functions, classes, etc. - is an object.  \n",
    "Such a \"name-to-object\" mapping allows us to access an object by a name that we've assigned to it. E.g., if we make a simple string assignment via `a_string = \"Hello string\"`, we created a reference to the `\"Hello string\"` object, and henceforth we can access via its variable name `a_string`.\n",
    "\n",
    "We can picture a namespace as a Python dictionary structure, where the dictionary keys represent the names and the dictionary values the object itself (and this is also how namespaces are currently implemented in Python), e.g., \n",
    "\n",
    "<pre>a_namespace = {'name_a':object_1, 'name_b':object_2, ...}</pre>  \n",
    "\n",
    "\n"
   ]
  },
  {
   "cell_type": "markdown",
   "metadata": {},
   "source": [
    "Now, the tricky part is that we have multiple independent namespaces in Python, and *names can be reused* for different namespaces (only the objects are unique, for example:\n",
    "\n",
    "<pre>a_namespace = {'name_a':object_1, 'name_b':object_2, ...}\n",
    "b_namespace = {'name_a':object_3, 'name_b':object_4, ...}</pre>\n",
    "\n",
    "For example, everytime we call a `for-loop` or define a function, it will create its own namespace. Namespaces also have different levels of hierarchy (the so-called \"scope\"), which we will discuss in more detail in the next section."
   ]
  },
  {
   "cell_type": "markdown",
   "metadata": {},
   "source": [
    "### Scope"
   ]
  },
  {
   "cell_type": "markdown",
   "metadata": {},
   "source": [
    "In the section above, we have learned that namespaces can exist independently from each other and that they are structured in a certain hierarchy, which brings us to the concept of \"scope\". The \"scope\" in Python defines the \"hierarchy level\" in which we search namespaces for certain \"name-to-object\" mappings.  \n",
    "For example, let us consider the following code:"
   ]
  },
  {
   "cell_type": "code",
   "execution_count": 21,
   "metadata": {},
   "outputs": [
    {
     "name": "stdout",
     "output_type": "stream",
     "text": [
      "1 global\n",
      "5 in foo()\n"
     ]
    }
   ],
   "source": [
    "i = 1\n",
    "\n",
    "def foo():\n",
    "    i = 5\n",
    "    print(i, 'in foo()')\n",
    "\n",
    "print(i, 'global')\n",
    "\n",
    "foo()"
   ]
  },
  {
   "cell_type": "markdown",
   "metadata": {},
   "source": [
    "Here, we just defined the variable name `i` twice, once on the `foo` function."
   ]
  },
  {
   "cell_type": "markdown",
   "metadata": {},
   "source": [
    "- `foo_namespace = {'i':object_3, ...}`  \n",
    "- `global_namespace = {'i':object_1, 'name_b':object_2, ...}`"
   ]
  },
  {
   "cell_type": "markdown",
   "metadata": {},
   "source": [
    "So, how does Python know which namespace it has to search if we want to print the value of the variable `i`? This is where Python's LEGB-rule comes into play, which we will discuss in the next section."
   ]
  },
  {
   "cell_type": "markdown",
   "metadata": {},
   "source": [
    "### Tip:\n",
    "If we want to print out the dictionary mapping of the global and local variables, we can use the\n",
    "the functions `globals()` and `locals()`"
   ]
  },
  {
   "cell_type": "code",
   "execution_count": 22,
   "metadata": {},
   "outputs": [
    {
     "name": "stdout",
     "output_type": "stream",
     "text": [
      "loc in foo(): True\n",
      "loc in global: False\n",
      "glob in global: True\n"
     ]
    }
   ],
   "source": [
    "#print(globals()) # prints global namespace\n",
    "#print(locals()) # prints local namespace\n",
    "\n",
    "glob = 1\n",
    "\n",
    "def foo():\n",
    "    loc = 5\n",
    "    print('loc in foo():', 'loc' in locals())\n",
    "\n",
    "foo()\n",
    "print('loc in global:', 'loc' in globals())    \n",
    "print('glob in global:', 'foo' in globals())"
   ]
  },
  {
   "cell_type": "markdown",
   "metadata": {},
   "source": [
    "### Scope resolution for variable names via the LEGB rule."
   ]
  },
  {
   "cell_type": "markdown",
   "metadata": {},
   "source": [
    "We have seen that multiple namespaces can exist independently from each other and that they can contain the same variable names on different hierachy levels. The \"scope\" defines on which hierarchy level Python searches for a particular \"variable name\" for its associated object. Now, the next question is: \"In which order does Python search the different levels of namespaces before it finds the name-to-object' mapping?\"  \n",
    "To answer is: It uses the LEGB-rule, which stands for\n",
    "\n",
    "**Local -> Enclosed -> Global -> Built-in**, \n",
    "\n",
    "where the arrows should denote the direction of the namespace-hierarchy search order.  \n",
    "\n",
    "- *Local* can be inside a function or class method, for example.  \n",
    "- *Enclosed* can be its `enclosing` function, e.g., if a function is wrapped inside another function.  \n",
    "- *Global* refers to the uppermost level of the executing script itself, and  \n",
    "- *Built-in* are special names that Python reserves for itself.  \n",
    "\n",
    "So, if a particular name:object mapping cannot be found in the local namespaces, the namespaces of the enclosed scope are being searched next. If the search in the enclosed scope is unsuccessful, too, Python moves on to the global namespace, and eventually, it will search the built-in namespace (side note: if a name cannot found in any of the namespaces, a *NameError* will is raised).\n",
    "\n",
    "**Note**:  \n",
    "Namespaces can also be further nested, for example if we import modules, or if we are defining new classes. In those cases we have to use prefixes to access those nested namespaces. Let me illustrate this concept in the following code block:"
   ]
  },
  {
   "cell_type": "code",
   "execution_count": 23,
   "metadata": {},
   "outputs": [
    {
     "name": "stdout",
     "output_type": "stream",
     "text": [
      "3.141592653589793 from the math module\n",
      "3.141592653589793 from the numpy package\n",
      "3.141592653589793 from the scipy package\n"
     ]
    }
   ],
   "source": [
    "import numpy\n",
    "import math\n",
    "import scipy\n",
    "\n",
    "print(math.pi, 'from the math module')\n",
    "print(numpy.pi, 'from the numpy package')\n",
    "print(scipy.pi, 'from the scipy package')"
   ]
  },
  {
   "cell_type": "markdown",
   "metadata": {},
   "source": [
    "(This is also why we have to be careful if we import modules via \"`from a_module import *`\", since it loads the variable names into the global namespace and could potentially overwrite already existing variable names)"
   ]
  },
  {
   "cell_type": "markdown",
   "metadata": {},
   "source": [
    "\n",
    "![LEGB figure](https://raw.githubusercontent.com/rasbt/python_reference/master/Images/scope_resolution_1.png)\n"
   ]
  },
  {
   "cell_type": "markdown",
   "metadata": {},
   "source": [
    "## 1. LG - Local and Global scopes"
   ]
  },
  {
   "cell_type": "markdown",
   "metadata": {},
   "source": [
    "**Example 1.1**  \n",
    "As a warm-up exercise, let us first forget about the enclosed (E) and built-in (B) scopes in the LEGB rule and only take a look at LG - the local and global scopes.  \n",
    "What does the following code print?"
   ]
  },
  {
   "cell_type": "code",
   "execution_count": 24,
   "metadata": {},
   "outputs": [
    {
     "name": "stdout",
     "output_type": "stream",
     "text": [
      "global variable [ a_var inside a_func() ]\n",
      "global variable [ a_var outside a_func() ]\n"
     ]
    }
   ],
   "source": [
    "a_var = 'global variable'\n",
    "\n",
    "def a_func():\n",
    "    print(a_var, '[ a_var inside a_func() ]')\n",
    "\n",
    "a_func()\n",
    "print(a_var, '[ a_var outside a_func() ]')"
   ]
  },
  {
   "cell_type": "markdown",
   "metadata": {},
   "source": [
    "**a)**\n",
    "<pre>raises an error</pre>\n",
    "\n",
    "**b)** \n",
    "<pre>\n",
    "global value [ a_var outside a_func() ]</pre>\n",
    "\n",
    "**c)** \n",
    "<pre>global value [ a_var inside a_func() ]  \n",
    "global value [ a_var outside a_func() ]</pre>\n",
    "\n",
    "\n"
   ]
  },
  {
   "cell_type": "markdown",
   "metadata": {},
   "source": [
    "[[go to solution](#solutions)]"
   ]
  },
  {
   "cell_type": "markdown",
   "metadata": {},
   "source": [
    "### Here is why:\n",
    "\n",
    "We call `a_func()` first, which is supposed to print the value of `a_var`. According to the LEGB rule, the function will first look in its own local scope (L) if `a_var` is defined there. Since `a_func()` does not define its own `a_var`, it will look one-level above in the global scope (G) in which `a_var` has been defined previously.\n",
    "<br>\n",
    "<br>"
   ]
  },
  {
   "cell_type": "markdown",
   "metadata": {},
   "source": [
    "**Example 1.2**  \n",
    "Now, let us define the variable `a_var` in the global and the local scope.  \n",
    "Can you guess what the following code will produce?"
   ]
  },
  {
   "cell_type": "code",
   "execution_count": 25,
   "metadata": {},
   "outputs": [
    {
     "name": "stdout",
     "output_type": "stream",
     "text": [
      "local value [ a_var inside a_func() ]\n",
      "global value [ a_var outside a_func() ]\n"
     ]
    }
   ],
   "source": [
    "a_var = 'global value'\n",
    "\n",
    "def a_func():\n",
    "    a_var = 'local value'\n",
    "    print(a_var, '[ a_var inside a_func() ]')\n",
    "\n",
    "a_func()\n",
    "print(a_var, '[ a_var outside a_func() ]')"
   ]
  },
  {
   "cell_type": "markdown",
   "metadata": {},
   "source": [
    "**a)**\n",
    "<pre>raises an error</pre>\n",
    "\n",
    "**b)** \n",
    "<pre>local value [ a_var inside a_func() ]\n",
    "global value [ a_var outside a_func() ]</pre>\n",
    "\n",
    "**c)** \n",
    "<pre>global value [ a_var inside a_func() ]  \n",
    "global value [ a_var outside a_func() ]</pre>\n"
   ]
  },
  {
   "cell_type": "markdown",
   "metadata": {},
   "source": [
    "[[go to solution](#solutions)]"
   ]
  },
  {
   "cell_type": "markdown",
   "metadata": {},
   "source": [
    "### Here is why:\n",
    "\n",
    "When we call `a_func()`, it will first look in its local scope (L) for `a_var`, since `a_var` is defined in the local scope of `a_func`, its assigned value `local variable` is printed. Note that this doesn't affect the global variable, which is in a different scope."
   ]
  },
  {
   "cell_type": "markdown",
   "metadata": {},
   "source": [
    "<br>\n",
    "However, it is also possible to modify the global by, e.g., re-assigning a new value to it if we use the global keyword as the following example will illustrate:"
   ]
  },
  {
   "cell_type": "code",
   "execution_count": 26,
   "metadata": {},
   "outputs": [
    {
     "name": "stdout",
     "output_type": "stream",
     "text": [
      "global value [ a_var outside a_func() ]\n",
      "local value [ a_var inside a_func() ]\n",
      "local value [ a_var outside a_func() ]\n"
     ]
    }
   ],
   "source": [
    "a_var = 'global value'\n",
    "\n",
    "def a_func():\n",
    "    global a_var\n",
    "    a_var = 'local value'\n",
    "    print(a_var, '[ a_var inside a_func() ]')\n",
    "\n",
    "print(a_var, '[ a_var outside a_func() ]')\n",
    "a_func()\n",
    "print(a_var, '[ a_var outside a_func() ]')"
   ]
  },
  {
   "cell_type": "markdown",
   "metadata": {},
   "source": [
    "But we have to be careful about the order: it is easy to raise an `UnboundLocalError` if we don't explicitly tell Python that we want to use the global scope and try to modify a variable's value (remember, the right side of an assignment operation is executed first):"
   ]
  },
  {
   "cell_type": "code",
   "execution_count": 27,
   "metadata": {},
   "outputs": [
    {
     "name": "stdout",
     "output_type": "stream",
     "text": [
      "1 [ a_var outside a_func() ]\n"
     ]
    },
    {
     "ename": "UnboundLocalError",
     "evalue": "local variable 'a_var' referenced before assignment",
     "output_type": "error",
     "traceback": [
      "\u001b[1;31m---------------------------------------------------------------------------\u001b[0m",
      "\u001b[1;31mUnboundLocalError\u001b[0m                         Traceback (most recent call last)",
      "\u001b[1;32m<ipython-input-27-2cd52cfb1ba1>\u001b[0m in \u001b[0;36m<module>\u001b[1;34m()\u001b[0m\n\u001b[0;32m      6\u001b[0m \u001b[1;33m\u001b[0m\u001b[0m\n\u001b[0;32m      7\u001b[0m \u001b[0mprint\u001b[0m\u001b[1;33m(\u001b[0m\u001b[0ma_var\u001b[0m\u001b[1;33m,\u001b[0m \u001b[1;34m'[ a_var outside a_func() ]'\u001b[0m\u001b[1;33m)\u001b[0m\u001b[1;33m\u001b[0m\u001b[0m\n\u001b[1;32m----> 8\u001b[1;33m \u001b[0ma_func\u001b[0m\u001b[1;33m(\u001b[0m\u001b[1;33m)\u001b[0m\u001b[1;33m\u001b[0m\u001b[0m\n\u001b[0m",
      "\u001b[1;32m<ipython-input-27-2cd52cfb1ba1>\u001b[0m in \u001b[0;36ma_func\u001b[1;34m()\u001b[0m\n\u001b[0;32m      2\u001b[0m \u001b[1;33m\u001b[0m\u001b[0m\n\u001b[0;32m      3\u001b[0m \u001b[1;32mdef\u001b[0m \u001b[0ma_func\u001b[0m\u001b[1;33m(\u001b[0m\u001b[1;33m)\u001b[0m\u001b[1;33m:\u001b[0m\u001b[1;33m\u001b[0m\u001b[0m\n\u001b[1;32m----> 4\u001b[1;33m     \u001b[0ma_var\u001b[0m \u001b[1;33m=\u001b[0m \u001b[0ma_var\u001b[0m \u001b[1;33m+\u001b[0m \u001b[1;36m1\u001b[0m\u001b[1;33m\u001b[0m\u001b[0m\n\u001b[0m\u001b[0;32m      5\u001b[0m     \u001b[0mprint\u001b[0m\u001b[1;33m(\u001b[0m\u001b[0ma_var\u001b[0m\u001b[1;33m,\u001b[0m \u001b[1;34m'[ a_var inside a_func() ]'\u001b[0m\u001b[1;33m)\u001b[0m\u001b[1;33m\u001b[0m\u001b[0m\n\u001b[0;32m      6\u001b[0m \u001b[1;33m\u001b[0m\u001b[0m\n",
      "\u001b[1;31mUnboundLocalError\u001b[0m: local variable 'a_var' referenced before assignment"
     ]
    }
   ],
   "source": [
    "a_var = 1\n",
    "\n",
    "def a_func():\n",
    "    a_var = a_var + 1\n",
    "    print(a_var, '[ a_var inside a_func() ]')\n",
    "\n",
    "print(a_var, '[ a_var outside a_func() ]')\n",
    "a_func()"
   ]
  },
  {
   "cell_type": "markdown",
   "metadata": {},
   "source": [
    "<br>\n",
    "<br>"
   ]
  },
  {
   "cell_type": "markdown",
   "metadata": {},
   "source": [
    "<a name=\"section_2\"></a>\n",
    "<br>\n",
    "<br>"
   ]
  },
  {
   "cell_type": "markdown",
   "metadata": {},
   "source": [
    "## 2. LEG - Local, Enclosed, and Global scope\n",
    "\n",
    "\n",
    "\n",
    "Now, let us introduce the concept of the enclosed (E) scope. Following the order \"Local -> Enclosed -> Global\", can you guess what the following code will print?"
   ]
  },
  {
   "cell_type": "markdown",
   "metadata": {},
   "source": [
    "**Example 2.1**"
   ]
  },
  {
   "cell_type": "code",
   "execution_count": 28,
   "metadata": {},
   "outputs": [
    {
     "name": "stdout",
     "output_type": "stream",
     "text": [
      "local value\n"
     ]
    }
   ],
   "source": [
    "a_var = 'global value'\n",
    "\n",
    "def outer():\n",
    "    a_var = 'enclosed value'\n",
    "    \n",
    "    def inner():\n",
    "        a_var = 'local value'\n",
    "        print(a_var)\n",
    "    \n",
    "    inner()\n",
    "\n",
    "outer()"
   ]
  },
  {
   "cell_type": "markdown",
   "metadata": {},
   "source": [
    "**a)**\n",
    "<pre>global value</pre>\n",
    "\n",
    "**b)** \n",
    "<pre>enclosed value</pre>\n",
    "\n",
    "**c)** \n",
    "<pre>local value</pre>"
   ]
  },
  {
   "cell_type": "markdown",
   "metadata": {},
   "source": [
    "[[go to solution](#solutions)]"
   ]
  },
  {
   "cell_type": "markdown",
   "metadata": {},
   "source": [
    "### Here is why:\n",
    "\n",
    "Let us quickly recapitulate what we just did: We called `outer()`, which defined the variable `a_var` locally (next to an existing `a_var` in the global scope). Next, the `outer()` function called `inner()`, which in turn defined a variable with of name `a_var` as well. The `print()` function inside `inner()` searched in the local scope first (L->E) before it went up in the scope hierarchy, and therefore it printed the value that was assigned in the local scope."
   ]
  },
  {
   "cell_type": "markdown",
   "metadata": {},
   "source": [
    "Similar to the concept of the `global` keyword, which we have seen in the section above, we can use the keyword `nonlocal` inside the inner function to explicitly access a variable from the outer (enclosed) scope in order to modify its value.  \n",
    "Note that the `nonlocal` keyword was added in Python 3.x and is not implemented in Python 2.x (yet)."
   ]
  },
  {
   "cell_type": "code",
   "execution_count": 29,
   "metadata": {},
   "outputs": [
    {
     "name": "stdout",
     "output_type": "stream",
     "text": [
      "outer before: local value\n",
      "in inner(): inner value\n",
      "outer after: inner value\n"
     ]
    }
   ],
   "source": [
    "a_var = 'global value'\n",
    "\n",
    "def outer():\n",
    "       a_var = 'local value'\n",
    "       print('outer before:', a_var)\n",
    "       def inner():\n",
    "           nonlocal a_var\n",
    "           a_var = 'inner value'\n",
    "           print('in inner():', a_var)\n",
    "       inner()\n",
    "       print(\"outer after:\", a_var)\n",
    "        \n",
    "outer()"
   ]
  },
  {
   "cell_type": "markdown",
   "metadata": {},
   "source": [
    "<a name=\"section_3\"></a>\n",
    "<br>\n",
    "<br>"
   ]
  },
  {
   "cell_type": "markdown",
   "metadata": {},
   "source": [
    "## 3. LEGB - Local, Enclosed, Global, Built-in\n",
    "\n",
    "To wrap up the LEGB rule, let us come to the built-in scope. Here, we will define our \"own\" length-funcion, which happens to bear the same name as the in-built `len()` function. What outcome do you excpect if we'd execute the following code?"
   ]
  },
  {
   "cell_type": "markdown",
   "metadata": {},
   "source": [
    "**Example 3**"
   ]
  },
  {
   "cell_type": "code",
   "execution_count": 30,
   "metadata": {},
   "outputs": [
    {
     "name": "stdout",
     "output_type": "stream",
     "text": [
      "called my len() function\n",
      "Input variable is of length 13\n"
     ]
    }
   ],
   "source": [
    "a_var = 'global variable'\n",
    "\n",
    "def len(in_var):\n",
    "    print('called my len() function')\n",
    "    l = 0\n",
    "    for i in in_var:\n",
    "        l += 1\n",
    "    return l\n",
    "\n",
    "def a_func(in_var):\n",
    "    len_in_var = len(in_var)\n",
    "    print('Input variable is of length', len_in_var)\n",
    "\n",
    "a_func('Hello, World!')"
   ]
  },
  {
   "cell_type": "markdown",
   "metadata": {},
   "source": [
    "**a)**\n",
    "<pre>raises an error (conflict with in-built `len()` function)</pre>\n",
    "\n",
    "**b)** \n",
    "<pre>called my len() function\n",
    "Input variable is of length 13</pre>\n",
    "\n",
    "**c)** \n",
    "<pre>Input variable is of length 13</pre>"
   ]
  },
  {
   "cell_type": "markdown",
   "metadata": {},
   "source": [
    "[[go to solution](#solutions)]"
   ]
  },
  {
   "cell_type": "markdown",
   "metadata": {},
   "source": [
    "### Here is why:\n",
    "\n",
    "Since the exact same names can be used to map names to different objects - as long as the names are in different name spaces - there is no problem of reusing the name `len` to define our own length function (this is just for demonstration pruposes, it is NOT recommended). As we go up in Python's L -> E -> G -> B hierarchy, the function `a_func()` finds `len()` already in the global scope (G) first before it attempts to search the built-in (B) namespace."
   ]
  },
  {
   "cell_type": "markdown",
   "metadata": {},
   "source": [
    "<a name =\"assessment\"></a>\n",
    "<br>\n",
    "<br>"
   ]
  },
  {
   "cell_type": "markdown",
   "metadata": {},
   "source": [
    "# Self-assessment exercise"
   ]
  },
  {
   "cell_type": "markdown",
   "metadata": {},
   "source": [
    "Now, after we went through a couple of exercises, let us quickly check where we are. So, one more time: What would the following code print out?"
   ]
  },
  {
   "cell_type": "code",
   "execution_count": 31,
   "metadata": {},
   "outputs": [
    {
     "name": "stdout",
     "output_type": "stream",
     "text": [
      "a is local variable\n",
      "called my len() function: 14\n",
      "called my len() function\n",
      "6\n",
      "a is global\n"
     ]
    }
   ],
   "source": [
    "a = 'global'\n",
    "\n",
    "def outer():\n",
    "    \n",
    "    def len(in_var):\n",
    "        print('called my len() function: ', end=\"\")\n",
    "        l = 0\n",
    "        for i in in_var:\n",
    "            l += 1\n",
    "        return l\n",
    "    \n",
    "    a = 'local'\n",
    "    \n",
    "    def inner():\n",
    "        global len\n",
    "        nonlocal a\n",
    "        a += ' variable'\n",
    "    inner()\n",
    "    print('a is', a)\n",
    "    print(len(a))\n",
    "\n",
    "\n",
    "outer()\n",
    "\n",
    "print(len(a))\n",
    "print('a is', a)"
   ]
  },
  {
   "cell_type": "markdown",
   "metadata": {},
   "source": [
    "<a name=\"conclusion\"\n",
    "<br>\n",
    "<br>"
   ]
  },
  {
   "cell_type": "markdown",
   "metadata": {},
   "source": [
    "[[go to solution](#solutions)]"
   ]
  },
  {
   "cell_type": "markdown",
   "metadata": {},
   "source": [
    "# Conclusion"
   ]
  },
  {
   "cell_type": "markdown",
   "metadata": {},
   "source": [
    "I hope this short tutorial was helpful to understand the basic concept of Python's scope resolution order using the LEGB rule. I want to encourage you (as a little self-assessment exercise) to look at the code snippets again tomorrow and check if you can correctly predict all their outcomes."
   ]
  },
  {
   "cell_type": "markdown",
   "metadata": {},
   "source": [
    "#### A rule of thumb"
   ]
  },
  {
   "cell_type": "markdown",
   "metadata": {},
   "source": [
    "In practice, **it is usually a bad idea to modify global variables inside the function scope**, since it often be the cause of confusion and weird errors that are hard to debug.  \n",
    "If you want to modify a global variable via a function, it is recommended to pass it as an argument and reassign the return-value.  \n",
    "For example:"
   ]
  },
  {
   "cell_type": "code",
   "execution_count": 32,
   "metadata": {},
   "outputs": [
    {
     "name": "stdout",
     "output_type": "stream",
     "text": [
      "8\n"
     ]
    }
   ],
   "source": [
    "a_var = 2\n",
    "\n",
    "def a_func(some_var):\n",
    "    return 2**3\n",
    "\n",
    "a_var = a_func(a_var)\n",
    "print(a_var)"
   ]
  },
  {
   "cell_type": "markdown",
   "metadata": {},
   "source": [
    "<a name = \"solutions\">\n",
    "<br>\n",
    "<br>"
   ]
  },
  {
   "cell_type": "markdown",
   "metadata": {},
   "source": [
    "## Solutions\n",
    "\n",
    "In order to prevent you from unintentional spoilers, I have written the solutions in binary format. In order to display the character representation, you just need to execute the following lines of code:"
   ]
  },
  {
   "cell_type": "code",
   "execution_count": 33,
   "metadata": {},
   "outputs": [
    {
     "name": "stdout",
     "output_type": "stream",
     "text": [
      "Example 1.1: c\n"
     ]
    }
   ],
   "source": [
    "print('Example 1.1:', chr(int('01100011',2)))"
   ]
  },
  {
   "cell_type": "code",
   "execution_count": 34,
   "metadata": {},
   "outputs": [
    {
     "name": "stdout",
     "output_type": "stream",
     "text": [
      "Example 1.2: b\n"
     ]
    }
   ],
   "source": [
    "print('Example 1.2:', chr(int('01100010',2)))"
   ]
  },
  {
   "cell_type": "code",
   "execution_count": 35,
   "metadata": {},
   "outputs": [
    {
     "name": "stdout",
     "output_type": "stream",
     "text": [
      "Example 2.1: c\n"
     ]
    }
   ],
   "source": [
    "print('Example 2.1:', chr(int('01100011',2)))"
   ]
  },
  {
   "cell_type": "code",
   "execution_count": 36,
   "metadata": {},
   "outputs": [
    {
     "name": "stdout",
     "output_type": "stream",
     "text": [
      "Example 3.1: b\n"
     ]
    }
   ],
   "source": [
    "print('Example 3.1:', chr(int('01100010',2)))"
   ]
  },
  {
   "cell_type": "code",
   "execution_count": 37,
   "metadata": {},
   "outputs": [
    {
     "name": "stdout",
     "output_type": "stream",
     "text": [
      "called my len() function\n",
      "\n",
      "outer():\n",
      "\n",
      "a is local variable\n",
      "called my len() function: 14\n",
      "\n",
      "global:\n",
      "\n",
      "6\n",
      "a is global\n"
     ]
    }
   ],
   "source": [
    "# Execute to run the self-assessment solution\n",
    "\n",
    "sol = \"000010100110111101110101011101000110010101110010001010\"\\\n",
    "\"0000101001001110100000101000001010011000010010000001101001011100110\"\\\n",
    "\"0100000011011000110111101100011011000010110110000100000011101100110\"\\\n",
    "\"0001011100100110100101100001011000100110110001100101000010100110001\"\\\n",
    "\"1011000010110110001101100011001010110010000100000011011010111100100\"\\\n",
    "\"1000000110110001100101011011100010100000101001001000000110011001110\"\\\n",
    "\"1010110111001100011011101000110100101101111011011100011101000100000\"\\\n",
    "\"0011000100110100000010100000101001100111011011000110111101100010011\"\\\n",
    "\"0000101101100001110100000101000001010001101100000101001100001001000\"\\\n",
    "\"0001101001011100110010000001100111011011000110111101100010011000010\"\\\n",
    "\"1101100\"\n",
    "\n",
    "sol_str =''.join(chr(int(sol[i:i+8], 2)) for i in range(0, len(sol), 8))\n",
    "for line in sol_str.split('\\n'):\n",
    "    print(line)"
   ]
  },
  {
   "cell_type": "markdown",
   "metadata": {},
   "source": [
    "<br>\n",
    "<br>\n",
    "<a name=\"for_loop\"></a>"
   ]
  },
  {
   "cell_type": "markdown",
   "metadata": {},
   "source": [
    "## Warning: For-loop variables \"leaking\" into the global namespace"
   ]
  },
  {
   "cell_type": "markdown",
   "metadata": {},
   "source": [
    "In contrast to some other programming languages, `for-loops` will use the scope they exist in and leave their defined loop-variable behind.\n"
   ]
  },
  {
   "cell_type": "code",
   "execution_count": 38,
   "metadata": {},
   "outputs": [
    {
     "name": "stdout",
     "output_type": "stream",
     "text": [
      "4 -> a in for-loop\n",
      "4 -> a in global\n"
     ]
    }
   ],
   "source": [
    "for a in range(5):\n",
    "    if a == 4:\n",
    "        print(a, '-> a in for-loop')\n",
    "print(a, '-> a in global')"
   ]
  },
  {
   "cell_type": "markdown",
   "metadata": {},
   "source": [
    "**This also applies if we explicitly defined the `for-loop` variable in the global namespace before!** In this case it will rebind the existing variable:"
   ]
  },
  {
   "cell_type": "code",
   "execution_count": 39,
   "metadata": {},
   "outputs": [
    {
     "name": "stdout",
     "output_type": "stream",
     "text": [
      "4 -> b in for-loop\n",
      "4 -> b in global\n"
     ]
    }
   ],
   "source": [
    "b = 1\n",
    "for b in range(5):\n",
    "    if b == 4:\n",
    "        print(b, '-> b in for-loop')\n",
    "print(b, '-> b in global')"
   ]
  },
  {
   "cell_type": "markdown",
   "metadata": {},
   "source": [
    "However, in **Python 3.x**, we can use closures to prevent the for-loop variable to cut into the global namespace. Here is an example (exectuted in Python 3.4):"
   ]
  },
  {
   "cell_type": "code",
   "execution_count": 40,
   "metadata": {},
   "outputs": [
    {
     "name": "stdout",
     "output_type": "stream",
     "text": [
      "[0, 1, 2, 3, 4]\n",
      "1 -> i in global\n"
     ]
    }
   ],
   "source": [
    "i = 1\n",
    "print([i for i in range(5)])\n",
    "print(i, '-> i in global')"
   ]
  },
  {
   "cell_type": "markdown",
   "metadata": {},
   "source": [
    "Why did I mention \"Python 3.x\"? Well, as it happens, the same code executed in Python 2.x would print:\n",
    "\n",
    "<pre>\n",
    "4 -> i in global\n",
    "<pre>"
   ]
  },
  {
   "cell_type": "markdown",
   "metadata": {},
   "source": [
    "This goes back to a change that was made in Python 3.x and is described in [What’s New In Python 3.0](https://docs.python.org/3/whatsnew/3.0.html) as follows:\n",
    "\n",
    "\"List comprehensions no longer support the syntactic form `[... for var in item1, item2, ...]`. Use `[... for var in (item1, item2, ...)]` instead. Also note that list comprehensions have different semantics: they are closer to syntactic sugar for a generator expression inside a `list()` constructor, and in particular the loop control variables are no longer leaked into the surrounding scope.\""
   ]
  },
  {
   "cell_type": "code",
   "execution_count": null,
   "metadata": {},
   "outputs": [],
   "source": []
  },
  {
   "cell_type": "code",
   "execution_count": null,
   "metadata": {},
   "outputs": [],
   "source": []
  }
 ],
 "metadata": {
  "kernelspec": {
   "display_name": "Python 3",
   "language": "python",
   "name": "python3"
  },
  "language_info": {
   "codemirror_mode": {
    "name": "ipython",
    "version": 3
   },
   "file_extension": ".py",
   "mimetype": "text/x-python",
   "name": "python",
   "nbconvert_exporter": "python",
   "pygments_lexer": "ipython3",
   "version": "3.7.0"
  }
 },
 "nbformat": 4,
 "nbformat_minor": 1
}
