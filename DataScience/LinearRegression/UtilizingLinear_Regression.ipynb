{
 "cells": [
  {
   "cell_type": "markdown",
   "metadata": {},
   "source": [
    "\n",
    "## Chapter 4. Classification : Linear Regression\n",
    "### Classification 타입 Supervised Learning 모델"
   ]
  },
  {
   "cell_type": "code",
   "execution_count": 2,
   "metadata": {},
   "outputs": [],
   "source": [
    "# 패키지 imports\n",
    "import pandas as pd\n",
    "import numpy as np\n",
    "import matplotlib.pyplot as plt\n",
    "import seaborn as sns\n",
    "import statsmodels.formula.api as smf \n",
    "\n",
    "# notebook에 직접 그래프를 plot  \n",
    "%matplotlib inline"
   ]
  },
  {
   "cell_type": "code",
   "execution_count": 3,
   "metadata": {},
   "outputs": [
    {
     "name": "stdout",
     "output_type": "stream",
     "text": [
      "C:\\Users\\schiz\\anaconda3\\python.exe\n",
      "3.7.6 (default, Jan  8 2020, 20:23:39) [MSC v.1916 64 bit (AMD64)]\n",
      "sys.version_info(major=3, minor=7, micro=6, releaselevel='final', serial=0)\n",
      "numpy: 1.18.1   pandas: 1.0.1   seaborn: 0.10.0\n"
     ]
    }
   ],
   "source": [
    "import sys\n",
    "print(sys.executable)\n",
    "print(sys.version)\n",
    "print(sys.version_info)\n",
    "print(\"numpy:\", np.__version__, \"  pandas:\", pd.__version__, \"  seaborn:\", sns.__version__) "
   ]
  },
  {
   "cell_type": "code",
   "execution_count": 4,
   "metadata": {},
   "outputs": [],
   "source": [
    "# 'Default' 데이터 Load  \n",
    "Default = pd.read_excel('../Data/Default.xlsx')"
   ]
  },
  {
   "cell_type": "markdown",
   "metadata": {
    "collapsed": true
   },
   "source": [
    "# 제약 조건1\n",
    "'레이블이 default입니다. Yes를 1로 No를 0으로 변환하세요. student 입력변수 의 Yes 와 No도 똑같이 하세요.'\n",
    "\n",
    "왜냐하면 scikit learn 모델들은 `numeric` feature 만 허용하기에 카테고리 변수들은 dummy variable을 사용해 실수로 encoding 하여 사용해야 함"
   ]
  },
  {
   "cell_type": "code",
   "execution_count": 5,
   "metadata": {
    "scrolled": false
   },
   "outputs": [
    {
     "data": {
      "text/html": [
       "<div>\n",
       "<style scoped>\n",
       "    .dataframe tbody tr th:only-of-type {\n",
       "        vertical-align: middle;\n",
       "    }\n",
       "\n",
       "    .dataframe tbody tr th {\n",
       "        vertical-align: top;\n",
       "    }\n",
       "\n",
       "    .dataframe thead th {\n",
       "        text-align: right;\n",
       "    }\n",
       "</style>\n",
       "<table border=\"1\" class=\"dataframe\">\n",
       "  <thead>\n",
       "    <tr style=\"text-align: right;\">\n",
       "      <th></th>\n",
       "      <th>Unnamed: 0</th>\n",
       "      <th>balance</th>\n",
       "      <th>income</th>\n",
       "      <th>default_Yes</th>\n",
       "      <th>student_Yes</th>\n",
       "    </tr>\n",
       "  </thead>\n",
       "  <tbody>\n",
       "    <tr>\n",
       "      <th>0</th>\n",
       "      <td>1</td>\n",
       "      <td>729.526495</td>\n",
       "      <td>44361.625074</td>\n",
       "      <td>0</td>\n",
       "      <td>0</td>\n",
       "    </tr>\n",
       "    <tr>\n",
       "      <th>1</th>\n",
       "      <td>2</td>\n",
       "      <td>817.180407</td>\n",
       "      <td>12106.134700</td>\n",
       "      <td>0</td>\n",
       "      <td>1</td>\n",
       "    </tr>\n",
       "    <tr>\n",
       "      <th>2</th>\n",
       "      <td>3</td>\n",
       "      <td>1073.549164</td>\n",
       "      <td>31767.138947</td>\n",
       "      <td>0</td>\n",
       "      <td>0</td>\n",
       "    </tr>\n",
       "    <tr>\n",
       "      <th>3</th>\n",
       "      <td>4</td>\n",
       "      <td>529.250605</td>\n",
       "      <td>35704.493935</td>\n",
       "      <td>0</td>\n",
       "      <td>0</td>\n",
       "    </tr>\n",
       "    <tr>\n",
       "      <th>4</th>\n",
       "      <td>5</td>\n",
       "      <td>785.655883</td>\n",
       "      <td>38463.495879</td>\n",
       "      <td>0</td>\n",
       "      <td>0</td>\n",
       "    </tr>\n",
       "  </tbody>\n",
       "</table>\n",
       "</div>"
      ],
      "text/plain": [
       "   Unnamed: 0      balance        income  default_Yes  student_Yes\n",
       "0           1   729.526495  44361.625074            0            0\n",
       "1           2   817.180407  12106.134700            0            1\n",
       "2           3  1073.549164  31767.138947            0            0\n",
       "3           4   529.250605  35704.493935            0            0\n",
       "4           5   785.655883  38463.495879            0            0"
      ]
     },
     "execution_count": 5,
     "metadata": {},
     "output_type": "execute_result"
    }
   ],
   "source": [
    "Default_enc = pd.get_dummies(Default, drop_first=True)\n",
    "Default_enc.head()"
   ]
  },
  {
   "cell_type": "markdown",
   "metadata": {},
   "source": [
    "# 제약 조건2\n",
    "'임계치를 적절히 잡아 분류를 하세요 정답 없어요'\n",
    "\n",
    "\n",
    "해결책: threshold를 0.1로 임의 초기화할 때,이에 대응하는 balance를 구한다. 그리고 이 값을 기준으로 분류할 수 있다.\n",
    "\n",
    "단계1: 가장 의미있는 입력변수를 찾는다\n",
    "\n",
    "단계2: 어림곡선의 모수를 도출한다\n",
    "\n",
    "단계3: 주어진 모수를 통해 찾고자 하는 balance를 구하고 이를 기준삼아 분류한다."
   ]
  },
  {
   "cell_type": "code",
   "execution_count": 40,
   "metadata": {},
   "outputs": [
    {
     "data": {
      "text/plain": [
       "<seaborn.axisgrid.PairGrid at 0x21f92da0948>"
      ]
     },
     "execution_count": 40,
     "metadata": {},
     "output_type": "execute_result"
    },
    {
     "data": {
      "image/png": "[encoded data removed]",
      "text/plain": [
       "<Figure size 1036.8x432 with 3 Axes>"
      ]
     },
     "metadata": {
      "needs_background": "light"
     },
     "output_type": "display_data"
    }
   ],
   "source": [
    "sns.pairplot(data=Default_enc, x_vars=['balance','income','student_Yes'], y_vars=['default_Yes'], height=6, aspect=0.8, kind='reg')"
   ]
  },
  {
   "cell_type": "code",
   "execution_count": 41,
   "metadata": {},
   "outputs": [
    {
     "data": {
      "text/plain": [
       "Intercept   -0.075192\n",
       "balance      0.000130\n",
       "dtype: float64"
      ]
     },
     "execution_count": 41,
     "metadata": {},
     "output_type": "execute_result"
    }
   ],
   "source": [
    "lm = smf.ols(formula='default_Yes ~ balance', data=Default_enc)\n",
    "lm_learned = lm.fit()\n",
    "lm_learned.params"
   ]
  },
  {
   "cell_type": "markdown",
   "metadata": {},
   "source": [
    "# (더 생각해본 것)\n",
    "\n",
    "확률값(0~1)에 대해 선형회귀를 통해 분류할때,결과값이 음수값을 가지는 한계를\n",
    "\n",
    "위에서 도출된 Intercept만큼의 상수를 어림곡선에 더해줌으로서,\n",
    "\n",
    "simple linear regression에 한하여 해결할 수 있음을 생각해 보았다.\n",
    "\n",
    "(단, 아래의 코드들에는 적용하지 않음)"
   ]
  },
  {
   "cell_type": "code",
   "execution_count": 49,
   "metadata": {
    "scrolled": true
   },
   "outputs": [
    {
     "data": {
      "text/plain": [
       "1342.2212239908708"
      ]
     },
     "execution_count": 49,
     "metadata": {},
     "output_type": "execute_result"
    }
   ],
   "source": [
    "# threshold를 주어진 어림곡선의 형태에 따라 0.1로 설정할때, default_Yes=0.1에 대응하는 balance를 구하자\n",
    "special_balance = (0.1 - lm_learned.params.Intercept) / lm_learned.params.balance \n",
    "special_balance"
   ]
  },
  {
   "cell_type": "code",
   "execution_count": 50,
   "metadata": {
    "scrolled": true
   },
   "outputs": [
    {
     "data": {
      "text/html": [
       "<div>\n",
       "<style scoped>\n",
       "    .dataframe tbody tr th:only-of-type {\n",
       "        vertical-align: middle;\n",
       "    }\n",
       "\n",
       "    .dataframe tbody tr th {\n",
       "        vertical-align: top;\n",
       "    }\n",
       "\n",
       "    .dataframe thead th {\n",
       "        text-align: right;\n",
       "    }\n",
       "</style>\n",
       "<table border=\"1\" class=\"dataframe\">\n",
       "  <thead>\n",
       "    <tr style=\"text-align: right;\">\n",
       "      <th></th>\n",
       "      <th>Unnamed: 0</th>\n",
       "      <th>balance</th>\n",
       "      <th>income</th>\n",
       "      <th>default_Yes</th>\n",
       "      <th>student_Yes</th>\n",
       "      <th>classified</th>\n",
       "    </tr>\n",
       "  </thead>\n",
       "  <tbody>\n",
       "    <tr>\n",
       "      <th>0</th>\n",
       "      <td>1</td>\n",
       "      <td>729.526495</td>\n",
       "      <td>44361.625074</td>\n",
       "      <td>0</td>\n",
       "      <td>0</td>\n",
       "      <td>0</td>\n",
       "    </tr>\n",
       "    <tr>\n",
       "      <th>1</th>\n",
       "      <td>2</td>\n",
       "      <td>817.180407</td>\n",
       "      <td>12106.134700</td>\n",
       "      <td>0</td>\n",
       "      <td>1</td>\n",
       "      <td>0</td>\n",
       "    </tr>\n",
       "    <tr>\n",
       "      <th>2</th>\n",
       "      <td>3</td>\n",
       "      <td>1073.549164</td>\n",
       "      <td>31767.138947</td>\n",
       "      <td>0</td>\n",
       "      <td>0</td>\n",
       "      <td>0</td>\n",
       "    </tr>\n",
       "    <tr>\n",
       "      <th>3</th>\n",
       "      <td>4</td>\n",
       "      <td>529.250605</td>\n",
       "      <td>35704.493935</td>\n",
       "      <td>0</td>\n",
       "      <td>0</td>\n",
       "      <td>0</td>\n",
       "    </tr>\n",
       "    <tr>\n",
       "      <th>4</th>\n",
       "      <td>5</td>\n",
       "      <td>785.655883</td>\n",
       "      <td>38463.495879</td>\n",
       "      <td>0</td>\n",
       "      <td>0</td>\n",
       "      <td>0</td>\n",
       "    </tr>\n",
       "  </tbody>\n",
       "</table>\n",
       "</div>"
      ],
      "text/plain": [
       "   Unnamed: 0      balance        income  default_Yes  student_Yes  classified\n",
       "0           1   729.526495  44361.625074            0            0           0\n",
       "1           2   817.180407  12106.134700            0            1           0\n",
       "2           3  1073.549164  31767.138947            0            0           0\n",
       "3           4   529.250605  35704.493935            0            0           0\n",
       "4           5   785.655883  38463.495879            0            0           0"
      ]
     },
     "execution_count": 50,
     "metadata": {},
     "output_type": "execute_result"
    }
   ],
   "source": [
    "#위에서 도출한 특정 임계치에 대한 balance값을 기준으로 분류가능\n",
    "\n",
    "Default_enc['classified']=np.where(Default_enc['balance']>special_balance, 1, 0)\n",
    "Default_enc.head()"
   ]
  },
  {
   "cell_type": "code",
   "execution_count": 55,
   "metadata": {
    "scrolled": true
   },
   "outputs": [
    {
     "data": {
      "text/plain": [
       "<seaborn.axisgrid.PairGrid at 0x21f92f26f88>"
      ]
     },
     "execution_count": 55,
     "metadata": {},
     "output_type": "execute_result"
    },
    {
     "data": {
      "image/png": "[encoded data removed]",
      "text/plain": [
       "<Figure size 691.2x432 with 2 Axes>"
      ]
     },
     "metadata": {
      "needs_background": "light"
     },
     "output_type": "display_data"
    }
   ],
   "source": [
    "sns.pairplot(data=Default_enc, x_vars=['balance','classified'], y_vars=['default_Yes'], height=6, aspect=0.8, kind='reg')"
   ]
  },
  {
   "cell_type": "markdown",
   "metadata": {},
   "source": [
    "## 결과적으로,\n",
    "## 좌측의 개별사례(또는 점들)이 0 또는 1로 우측에 분류된 것을 볼 수 있다.\n",
    "\n",
    "## 한편, \n",
    "## default_Yes==1인 채무불이행자임에도 채무이행자로, \n",
    "## default_Yes==0인 채무이행자임에도 채무불이행자로,\n",
    "## 잘못 분류된 사실을 확인할수있다.\n",
    "\n",
    "이때, 입력변수가 classified로 잡혀서 나오는 어림곡선은 논외이다."
   ]
  },
  {
   "cell_type": "markdown",
   "metadata": {},
   "source": [
    "# 제약 조건3\n",
    "\n",
    "'Default 데이터의 샘플들을 학습용(Training) 데이터(70%)와 평가용(Test) 데이터 비율(30%)을 7:3으로 나누어 학습용 데이터로 학습한 후 평가용 데이터로 성능을 측정하세요.'\n",
    "\n",
    "'데이터를 학습용과 평가용으로 나눌 때 레이블이 default의 'no'와 'yes'의 분포가 양쪽에 균등하게 포함되도록 하세요. 즉 원래 Default 데이터에 10000개 샘플이 있는데, 그 중 default 값이 No인 것이 9667, Yes 인 것이 333 입니다. 이 No : Yes 비율이 학습용 데이터와 평가용 데이터와 비슷하게 적용되어야합니다.'\n",
    "\n",
    "### Idea\n",
    "Default_enc에서 default_Yes와 default_No를 구분한다.\n",
    "\n",
    "그 후 각각 70%씩 추출하여 Training dataframe을 만들고, 나머지로는 평가용 데이터 프레임을 만든다.\n",
    "\n",
    "최종적으로 accuracy를 통해서 성능을 비교한다."
   ]
  },
  {
   "cell_type": "code",
   "execution_count": 56,
   "metadata": {},
   "outputs": [],
   "source": [
    "#print(round(9667*0.7)) \n",
    "#결과값 6767\n",
    "#print(round(333*0.7))\n",
    "#결과값 233\n",
    "\n",
    "DefaultNo_set=Default_enc.query('default_Yes==0')\n",
    "DefaultYes_set=Default_enc.query('default_Yes==1')\n",
    "\n",
    "Training_set=pd.concat([DefaultNo_set[0:6767],DefaultYes_set[0:233]],ignore_index=True)\n",
    "Testing_set=pd.concat([DefaultNo_set[6767:],DefaultYes_set[233:]],ignore_index=True)\n"
   ]
  },
  {
   "cell_type": "markdown",
   "metadata": {},
   "source": [
    "## 먼저 Traing_set에서 분류를 위한 balance 도출 및 분류\n",
    "### 이때 threshold(임계치)를 재설정함에 있어 앞선 자료를 분석해 보겠다. \n",
    "직관적으로 default_Yes(채무불이행자)는 앞써 구한 기준값 balance(약 1300)보다 더 우측에 밀집되어있다.\n",
    "\n",
    "따라서,0.1보다 증가한 0.2로 임계치(threshold) 설정해본다.\n",
    "\n",
    "다시\n",
    "전처리 똑같이 분류를 위한 특정 balance를 구한다."
   ]
  },
  {
   "cell_type": "code",
   "execution_count": 57,
   "metadata": {},
   "outputs": [
    {
     "data": {
      "text/html": [
       "<div>\n",
       "<style scoped>\n",
       "    .dataframe tbody tr th:only-of-type {\n",
       "        vertical-align: middle;\n",
       "    }\n",
       "\n",
       "    .dataframe tbody tr th {\n",
       "        vertical-align: top;\n",
       "    }\n",
       "\n",
       "    .dataframe thead th {\n",
       "        text-align: right;\n",
       "    }\n",
       "</style>\n",
       "<table border=\"1\" class=\"dataframe\">\n",
       "  <thead>\n",
       "    <tr style=\"text-align: right;\">\n",
       "      <th></th>\n",
       "      <th>Unnamed: 0</th>\n",
       "      <th>balance</th>\n",
       "      <th>income</th>\n",
       "      <th>default_Yes</th>\n",
       "      <th>student_Yes</th>\n",
       "      <th>classified</th>\n",
       "    </tr>\n",
       "  </thead>\n",
       "  <tbody>\n",
       "    <tr>\n",
       "      <th>0</th>\n",
       "      <td>1</td>\n",
       "      <td>729.526495</td>\n",
       "      <td>44361.625074</td>\n",
       "      <td>0</td>\n",
       "      <td>0</td>\n",
       "      <td>0</td>\n",
       "    </tr>\n",
       "    <tr>\n",
       "      <th>1</th>\n",
       "      <td>2</td>\n",
       "      <td>817.180407</td>\n",
       "      <td>12106.134700</td>\n",
       "      <td>0</td>\n",
       "      <td>1</td>\n",
       "      <td>0</td>\n",
       "    </tr>\n",
       "    <tr>\n",
       "      <th>2</th>\n",
       "      <td>3</td>\n",
       "      <td>1073.549164</td>\n",
       "      <td>31767.138947</td>\n",
       "      <td>0</td>\n",
       "      <td>0</td>\n",
       "      <td>0</td>\n",
       "    </tr>\n",
       "    <tr>\n",
       "      <th>3</th>\n",
       "      <td>4</td>\n",
       "      <td>529.250605</td>\n",
       "      <td>35704.493935</td>\n",
       "      <td>0</td>\n",
       "      <td>0</td>\n",
       "      <td>0</td>\n",
       "    </tr>\n",
       "    <tr>\n",
       "      <th>4</th>\n",
       "      <td>5</td>\n",
       "      <td>785.655883</td>\n",
       "      <td>38463.495879</td>\n",
       "      <td>0</td>\n",
       "      <td>0</td>\n",
       "      <td>0</td>\n",
       "    </tr>\n",
       "  </tbody>\n",
       "</table>\n",
       "</div>"
      ],
      "text/plain": [
       "   Unnamed: 0      balance        income  default_Yes  student_Yes  classified\n",
       "0           1   729.526495  44361.625074            0            0           0\n",
       "1           2   817.180407  12106.134700            0            1           0\n",
       "2           3  1073.549164  31767.138947            0            0           0\n",
       "3           4   529.250605  35704.493935            0            0           0\n",
       "4           5   785.655883  38463.495879            0            0           0"
      ]
     },
     "execution_count": 57,
     "metadata": {},
     "output_type": "execute_result"
    }
   ],
   "source": [
    "lm = smf.ols(formula='default_Yes ~ balance', data=Training_set)\n",
    "lm_learned = lm.fit()\n",
    "\n",
    "# threshold를 0.2로 할때, 즉 default_Yes=0.2에 대응하는 balance를 구하자\n",
    "special_balance = (0.2 - lm_learned.params.Intercept) / lm_learned.params.balance \n",
    "Training_set['classified']=np.where(Training_set['balance']>special_balance, 1, 0)\n",
    "Training_set.head()"
   ]
  },
  {
   "cell_type": "code",
   "execution_count": 58,
   "metadata": {
    "scrolled": true
   },
   "outputs": [
    {
     "data": {
      "text/plain": [
       "0.9705714285714285"
      ]
     },
     "execution_count": 58,
     "metadata": {},
     "output_type": "execute_result"
    }
   ],
   "source": [
    "(Training_set.default_Yes == Training_set.classified).mean()"
   ]
  },
  {
   "cell_type": "markdown",
   "metadata": {},
   "source": [
    "### 위에서 구한 특정 balance를 바탕으로 Testing_set을 분류해보자!"
   ]
  },
  {
   "cell_type": "code",
   "execution_count": 61,
   "metadata": {},
   "outputs": [
    {
     "data": {
      "text/html": [
       "<div>\n",
       "<style scoped>\n",
       "    .dataframe tbody tr th:only-of-type {\n",
       "        vertical-align: middle;\n",
       "    }\n",
       "\n",
       "    .dataframe tbody tr th {\n",
       "        vertical-align: top;\n",
       "    }\n",
       "\n",
       "    .dataframe thead th {\n",
       "        text-align: right;\n",
       "    }\n",
       "</style>\n",
       "<table border=\"1\" class=\"dataframe\">\n",
       "  <thead>\n",
       "    <tr style=\"text-align: right;\">\n",
       "      <th></th>\n",
       "      <th>Unnamed: 0</th>\n",
       "      <th>balance</th>\n",
       "      <th>income</th>\n",
       "      <th>default_Yes</th>\n",
       "      <th>student_Yes</th>\n",
       "      <th>classified</th>\n",
       "    </tr>\n",
       "  </thead>\n",
       "  <tbody>\n",
       "    <tr>\n",
       "      <th>0</th>\n",
       "      <td>7008</td>\n",
       "      <td>824.518401</td>\n",
       "      <td>20689.724223</td>\n",
       "      <td>0</td>\n",
       "      <td>1</td>\n",
       "      <td>0</td>\n",
       "    </tr>\n",
       "    <tr>\n",
       "      <th>1</th>\n",
       "      <td>7009</td>\n",
       "      <td>358.647642</td>\n",
       "      <td>56331.778768</td>\n",
       "      <td>0</td>\n",
       "      <td>0</td>\n",
       "      <td>0</td>\n",
       "    </tr>\n",
       "    <tr>\n",
       "      <th>2</th>\n",
       "      <td>7010</td>\n",
       "      <td>1393.369463</td>\n",
       "      <td>43439.674070</td>\n",
       "      <td>0</td>\n",
       "      <td>0</td>\n",
       "      <td>0</td>\n",
       "    </tr>\n",
       "    <tr>\n",
       "      <th>3</th>\n",
       "      <td>7011</td>\n",
       "      <td>332.413826</td>\n",
       "      <td>37129.151178</td>\n",
       "      <td>0</td>\n",
       "      <td>0</td>\n",
       "      <td>0</td>\n",
       "    </tr>\n",
       "    <tr>\n",
       "      <th>4</th>\n",
       "      <td>7012</td>\n",
       "      <td>1215.088950</td>\n",
       "      <td>39002.496965</td>\n",
       "      <td>0</td>\n",
       "      <td>0</td>\n",
       "      <td>0</td>\n",
       "    </tr>\n",
       "  </tbody>\n",
       "</table>\n",
       "</div>"
      ],
      "text/plain": [
       "   Unnamed: 0      balance        income  default_Yes  student_Yes  classified\n",
       "0        7008   824.518401  20689.724223            0            1           0\n",
       "1        7009   358.647642  56331.778768            0            0           0\n",
       "2        7010  1393.369463  43439.674070            0            0           0\n",
       "3        7011   332.413826  37129.151178            0            0           0\n",
       "4        7012  1215.088950  39002.496965            0            0           0"
      ]
     },
     "execution_count": 61,
     "metadata": {},
     "output_type": "execute_result"
    }
   ],
   "source": [
    "Testing_set['classified']=np.where(Testing_set['balance']>special_balance, 1, 0)\n",
    "Testing_set.head()"
   ]
  },
  {
   "cell_type": "code",
   "execution_count": 62,
   "metadata": {
    "scrolled": false
   },
   "outputs": [
    {
     "data": {
      "text/plain": [
       "0.97"
      ]
     },
     "execution_count": 62,
     "metadata": {},
     "output_type": "execute_result"
    }
   ],
   "source": [
    "(Testing_set.default_Yes == Testing_set.classified).mean()"
   ]
  },
  {
   "cell_type": "markdown",
   "metadata": {},
   "source": [
    "### 97.05%에서 97%로 정확도가 0.05%p 소폭 하락하였다~\n",
    "### 정확성이 크게 차이나지 않는다는 점에서, 앞선 분류모델은 overfit 또는 underfit이 아니라고 볼수도 있다"
   ]
  },
  {
   "cell_type": "markdown",
   "metadata": {},
   "source": [
    "# 제약조건4\n",
    "\n",
    "평가용 데이터에 대한 Confusion Matrix를 만들어 성능평가를 하세요."
   ]
  },
  {
   "cell_type": "code",
   "execution_count": 63,
   "metadata": {},
   "outputs": [],
   "source": [
    "from sklearn import metrics"
   ]
  },
  {
   "cell_type": "code",
   "execution_count": 64,
   "metadata": {},
   "outputs": [
    {
     "name": "stdout",
     "output_type": "stream",
     "text": [
      "[[6759    8]\n",
      " [ 198   35]]\n"
     ]
    }
   ],
   "source": [
    "conf_mat = metrics.confusion_matrix(Training_set.default_Yes, Training_set.classified) \n",
    "print(conf_mat)"
   ]
  },
  {
   "cell_type": "markdown",
   "metadata": {},
   "source": [
    "### Accuracy  97.05%"
   ]
  },
  {
   "cell_type": "code",
   "execution_count": 65,
   "metadata": {},
   "outputs": [
    {
     "data": {
      "text/plain": [
       "0.9705714285714285"
      ]
     },
     "execution_count": 65,
     "metadata": {},
     "output_type": "execute_result"
    }
   ],
   "source": [
    "(conf_mat[0,0] + conf_mat[1,1]) /conf_mat.sum()   # confusion matrix에서 Accuracy 계산 "
   ]
  },
  {
   "cell_type": "markdown",
   "metadata": {},
   "source": [
    "### Sensitivity 15.02%\n",
    "\n",
    "높은 정확도에 비해 민감도가 낮은 것은, 데이터의 편향적인 경향에 기인한다고 생각한다.\n",
    "왜냐하면, 정확도에 비례하는 TN, TP의 합이 전체에서 차지하는 비중이 높음에도,\n",
    "민감도가 낮기 위해선 TN 또는 TP가 균등하지 않고 한쪽에 쏠려야하기 때문이다."
   ]
  },
  {
   "cell_type": "code",
   "execution_count": 68,
   "metadata": {},
   "outputs": [
    {
     "name": "stdout",
     "output_type": "stream",
     "text": [
      "0.15021459227467812\n"
     ]
    }
   ],
   "source": [
    "print((conf_mat[1,1] / (conf_mat[1,0] + conf_mat[1,1])))"
   ]
  },
  {
   "cell_type": "markdown",
   "metadata": {},
   "source": [
    "### Precision 81.39%"
   ]
  },
  {
   "cell_type": "code",
   "execution_count": 70,
   "metadata": {},
   "outputs": [
    {
     "name": "stdout",
     "output_type": "stream",
     "text": [
      "0.813953488372093\n"
     ]
    }
   ],
   "source": [
    "print((conf_mat[1,1] / (conf_mat[0,1] + conf_mat[1,1])))"
   ]
  }
 ],
 "metadata": {
  "kernelspec": {
   "display_name": "Python 3",
   "language": "python",
   "name": "python3"
  },
  "language_info": {
   "codemirror_mode": {
    "name": "ipython",
    "version": 3
   },
   "file_extension": ".py",
   "mimetype": "text/x-python",
   "name": "python",
   "nbconvert_exporter": "python",
   "pygments_lexer": "ipython3",
   "version": "3.7.6"
  }
 },
 "nbformat": 4,
 "nbformat_minor": 1
}
